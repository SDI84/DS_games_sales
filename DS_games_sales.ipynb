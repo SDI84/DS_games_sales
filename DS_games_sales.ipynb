{
 "cells": [
  {
   "cell_type": "markdown",
   "id": "e39ba451",
   "metadata": {},
   "source": [
    "###  Цели и задачи проекта:\n",
    "- Анализ продаж игр интернет магазина\n",
    "- Определить закономерности определяющие успешность игр\n",
    "- Прогноз продаж на 2017 год"
   ]
  },
  {
   "cell_type": "code",
   "execution_count": 1,
   "id": "3d46ea0f",
   "metadata": {},
   "outputs": [],
   "source": [
    "#!pip install fuzzywuzzy\n",
    "#!pip install python-Levenshtein\n",
    "#!pip install tqdm\n",
    "#!pip install scipy"
   ]
  },
  {
   "cell_type": "code",
   "execution_count": 2,
   "id": "df632110",
   "metadata": {},
   "outputs": [],
   "source": [
    "import pandas as pd\n",
    "import numpy as np\n",
    "import matplotlib.pyplot as plt\n",
    "import difflib\n",
    "import warnings\n",
    "from scipy import stats as st\n",
    "import sys"
   ]
  },
  {
   "cell_type": "markdown",
   "id": "97370c7a",
   "metadata": {},
   "source": [
    "###  Откроем файл и изучим общую информацию"
   ]
  },
  {
   "cell_type": "code",
   "execution_count": 3,
   "id": "53ddc37d",
   "metadata": {},
   "outputs": [
    {
     "data": {
      "text/html": [
       "<div>\n",
       "<style scoped>\n",
       "    .dataframe tbody tr th:only-of-type {\n",
       "        vertical-align: middle;\n",
       "    }\n",
       "\n",
       "    .dataframe tbody tr th {\n",
       "        vertical-align: top;\n",
       "    }\n",
       "\n",
       "    .dataframe thead th {\n",
       "        text-align: right;\n",
       "    }\n",
       "</style>\n",
       "<table border=\"1\" class=\"dataframe\">\n",
       "  <thead>\n",
       "    <tr style=\"text-align: right;\">\n",
       "      <th></th>\n",
       "      <th>Name</th>\n",
       "      <th>Platform</th>\n",
       "      <th>Year_of_Release</th>\n",
       "      <th>Genre</th>\n",
       "      <th>NA_sales</th>\n",
       "      <th>EU_sales</th>\n",
       "      <th>JP_sales</th>\n",
       "      <th>Other_sales</th>\n",
       "      <th>Critic_Score</th>\n",
       "      <th>User_Score</th>\n",
       "      <th>Rating</th>\n",
       "    </tr>\n",
       "  </thead>\n",
       "  <tbody>\n",
       "    <tr>\n",
       "      <th>0</th>\n",
       "      <td>Wii Sports</td>\n",
       "      <td>Wii</td>\n",
       "      <td>2006.0</td>\n",
       "      <td>Sports</td>\n",
       "      <td>41.36</td>\n",
       "      <td>28.96</td>\n",
       "      <td>3.77</td>\n",
       "      <td>8.45</td>\n",
       "      <td>76.0</td>\n",
       "      <td>8</td>\n",
       "      <td>E</td>\n",
       "    </tr>\n",
       "    <tr>\n",
       "      <th>1</th>\n",
       "      <td>Super Mario Bros.</td>\n",
       "      <td>NES</td>\n",
       "      <td>1985.0</td>\n",
       "      <td>Platform</td>\n",
       "      <td>29.08</td>\n",
       "      <td>3.58</td>\n",
       "      <td>6.81</td>\n",
       "      <td>0.77</td>\n",
       "      <td>NaN</td>\n",
       "      <td>NaN</td>\n",
       "      <td>NaN</td>\n",
       "    </tr>\n",
       "    <tr>\n",
       "      <th>2</th>\n",
       "      <td>Mario Kart Wii</td>\n",
       "      <td>Wii</td>\n",
       "      <td>2008.0</td>\n",
       "      <td>Racing</td>\n",
       "      <td>15.68</td>\n",
       "      <td>12.76</td>\n",
       "      <td>3.79</td>\n",
       "      <td>3.29</td>\n",
       "      <td>82.0</td>\n",
       "      <td>8.3</td>\n",
       "      <td>E</td>\n",
       "    </tr>\n",
       "    <tr>\n",
       "      <th>3</th>\n",
       "      <td>Wii Sports Resort</td>\n",
       "      <td>Wii</td>\n",
       "      <td>2009.0</td>\n",
       "      <td>Sports</td>\n",
       "      <td>15.61</td>\n",
       "      <td>10.93</td>\n",
       "      <td>3.28</td>\n",
       "      <td>2.95</td>\n",
       "      <td>80.0</td>\n",
       "      <td>8</td>\n",
       "      <td>E</td>\n",
       "    </tr>\n",
       "    <tr>\n",
       "      <th>4</th>\n",
       "      <td>Pokemon Red/Pokemon Blue</td>\n",
       "      <td>GB</td>\n",
       "      <td>1996.0</td>\n",
       "      <td>Role-Playing</td>\n",
       "      <td>11.27</td>\n",
       "      <td>8.89</td>\n",
       "      <td>10.22</td>\n",
       "      <td>1.00</td>\n",
       "      <td>NaN</td>\n",
       "      <td>NaN</td>\n",
       "      <td>NaN</td>\n",
       "    </tr>\n",
       "  </tbody>\n",
       "</table>\n",
       "</div>"
      ],
      "text/plain": [
       "                       Name Platform  Year_of_Release         Genre  NA_sales  \\\n",
       "0                Wii Sports      Wii           2006.0        Sports     41.36   \n",
       "1         Super Mario Bros.      NES           1985.0      Platform     29.08   \n",
       "2            Mario Kart Wii      Wii           2008.0        Racing     15.68   \n",
       "3         Wii Sports Resort      Wii           2009.0        Sports     15.61   \n",
       "4  Pokemon Red/Pokemon Blue       GB           1996.0  Role-Playing     11.27   \n",
       "\n",
       "   EU_sales  JP_sales  Other_sales  Critic_Score User_Score Rating  \n",
       "0     28.96      3.77         8.45          76.0          8      E  \n",
       "1      3.58      6.81         0.77           NaN        NaN    NaN  \n",
       "2     12.76      3.79         3.29          82.0        8.3      E  \n",
       "3     10.93      3.28         2.95          80.0          8      E  \n",
       "4      8.89     10.22         1.00           NaN        NaN    NaN  "
      ]
     },
     "execution_count": 3,
     "metadata": {},
     "output_type": "execute_result"
    }
   ],
   "source": [
    "path = '/datasets/games.csv'\n",
    "games_df = pd.read_csv(path)\n",
    "games_df.head()"
   ]
  },
  {
   "cell_type": "code",
   "execution_count": 4,
   "id": "56fcba93",
   "metadata": {},
   "outputs": [
    {
     "name": "stdout",
     "output_type": "stream",
     "text": [
      "<class 'pandas.core.frame.DataFrame'>\n",
      "RangeIndex: 16715 entries, 0 to 16714\n",
      "Data columns (total 11 columns):\n",
      " #   Column           Non-Null Count  Dtype  \n",
      "---  ------           --------------  -----  \n",
      " 0   Name             16713 non-null  object \n",
      " 1   Platform         16715 non-null  object \n",
      " 2   Year_of_Release  16446 non-null  float64\n",
      " 3   Genre            16713 non-null  object \n",
      " 4   NA_sales         16715 non-null  float64\n",
      " 5   EU_sales         16715 non-null  float64\n",
      " 6   JP_sales         16715 non-null  float64\n",
      " 7   Other_sales      16715 non-null  float64\n",
      " 8   Critic_Score     8137 non-null   float64\n",
      " 9   User_Score       10014 non-null  object \n",
      " 10  Rating           9949 non-null   object \n",
      "dtypes: float64(6), object(5)\n",
      "memory usage: 1.4+ MB\n"
     ]
    }
   ],
   "source": [
    "games_df.info()"
   ]
  },
  {
   "cell_type": "code",
   "execution_count": 5,
   "id": "4ec39f33",
   "metadata": {},
   "outputs": [],
   "source": [
    "games_df_shape_old = games_df.shape\n"
   ]
  },
  {
   "cell_type": "markdown",
   "id": "6edf5cb9",
   "metadata": {},
   "source": [
    "###  Подготовка данных"
   ]
  },
  {
   "cell_type": "markdown",
   "id": "72fd5f9e",
   "metadata": {},
   "source": [
    "####  Приведем названия столбцов к нижнему регисту."
   ]
  },
  {
   "cell_type": "code",
   "execution_count": 6,
   "id": "a9bb5ef5",
   "metadata": {},
   "outputs": [],
   "source": [
    "games_df.columns = games_df.columns.str.lower()"
   ]
  },
  {
   "cell_type": "markdown",
   "id": "5abea58a",
   "metadata": {},
   "source": [
    "####  Рассмотрим уникальные названия платформ."
   ]
  },
  {
   "cell_type": "code",
   "execution_count": 7,
   "id": "a4fe6985",
   "metadata": {},
   "outputs": [
    {
     "data": {
      "text/plain": [
       "array(['Wii', 'NES', 'GB', 'DS', 'X360', 'PS3', 'PS2', 'SNES', 'GBA',\n",
       "       'PS4', '3DS', 'N64', 'PS', 'XB', 'PC', '2600', 'PSP', 'XOne',\n",
       "       'WiiU', 'GC', 'GEN', 'DC', 'PSV', 'SAT', 'SCD', 'WS', 'NG', 'TG16',\n",
       "       '3DO', 'GG', 'PCFX'], dtype=object)"
      ]
     },
     "execution_count": 7,
     "metadata": {},
     "output_type": "execute_result"
    }
   ],
   "source": [
    "games_df['platform'].unique()"
   ]
  },
  {
   "cell_type": "markdown",
   "id": "7599812d",
   "metadata": {},
   "source": [
    "написания одной консоли несколькоми вариантами не замечено."
   ]
  },
  {
   "cell_type": "markdown",
   "id": "4e424b35",
   "metadata": {},
   "source": [
    "####  Рассмотрим названия игр"
   ]
  },
  {
   "cell_type": "code",
   "execution_count": 8,
   "id": "3eacc29b",
   "metadata": {
    "scrolled": false
   },
   "outputs": [
    {
     "data": {
      "text/html": [
       "<div>\n",
       "<style scoped>\n",
       "    .dataframe tbody tr th:only-of-type {\n",
       "        vertical-align: middle;\n",
       "    }\n",
       "\n",
       "    .dataframe tbody tr th {\n",
       "        vertical-align: top;\n",
       "    }\n",
       "\n",
       "    .dataframe thead th {\n",
       "        text-align: right;\n",
       "    }\n",
       "</style>\n",
       "<table border=\"1\" class=\"dataframe\">\n",
       "  <thead>\n",
       "    <tr style=\"text-align: right;\">\n",
       "      <th></th>\n",
       "      <th>name</th>\n",
       "      <th>platform</th>\n",
       "      <th>year_of_release</th>\n",
       "      <th>genre</th>\n",
       "      <th>na_sales</th>\n",
       "      <th>eu_sales</th>\n",
       "      <th>jp_sales</th>\n",
       "      <th>other_sales</th>\n",
       "      <th>critic_score</th>\n",
       "      <th>user_score</th>\n",
       "      <th>rating</th>\n",
       "    </tr>\n",
       "  </thead>\n",
       "  <tbody>\n",
       "    <tr>\n",
       "      <th>659</th>\n",
       "      <td>NaN</td>\n",
       "      <td>GEN</td>\n",
       "      <td>1993.0</td>\n",
       "      <td>NaN</td>\n",
       "      <td>1.78</td>\n",
       "      <td>0.53</td>\n",
       "      <td>0.00</td>\n",
       "      <td>0.08</td>\n",
       "      <td>NaN</td>\n",
       "      <td>NaN</td>\n",
       "      <td>NaN</td>\n",
       "    </tr>\n",
       "    <tr>\n",
       "      <th>14244</th>\n",
       "      <td>NaN</td>\n",
       "      <td>GEN</td>\n",
       "      <td>1993.0</td>\n",
       "      <td>NaN</td>\n",
       "      <td>0.00</td>\n",
       "      <td>0.00</td>\n",
       "      <td>0.03</td>\n",
       "      <td>0.00</td>\n",
       "      <td>NaN</td>\n",
       "      <td>NaN</td>\n",
       "      <td>NaN</td>\n",
       "    </tr>\n",
       "  </tbody>\n",
       "</table>\n",
       "</div>"
      ],
      "text/plain": [
       "      name platform  year_of_release genre  na_sales  eu_sales  jp_sales  \\\n",
       "659    NaN      GEN           1993.0   NaN      1.78      0.53      0.00   \n",
       "14244  NaN      GEN           1993.0   NaN      0.00      0.00      0.03   \n",
       "\n",
       "       other_sales  critic_score user_score rating  \n",
       "659           0.08           NaN        NaN    NaN  \n",
       "14244         0.00           NaN        NaN    NaN  "
      ]
     },
     "execution_count": 8,
     "metadata": {},
     "output_type": "execute_result"
    }
   ],
   "source": [
    "#количество незаполненных названий игр\n",
    "games_df[games_df['name'].isna()]"
   ]
  },
  {
   "cell_type": "markdown",
   "id": "633990cb",
   "metadata": {},
   "source": [
    "Данных мало, можно удалить данные строки"
   ]
  },
  {
   "cell_type": "code",
   "execution_count": 9,
   "id": "17692824",
   "metadata": {},
   "outputs": [
    {
     "data": {
      "text/html": [
       "<div>\n",
       "<style scoped>\n",
       "    .dataframe tbody tr th:only-of-type {\n",
       "        vertical-align: middle;\n",
       "    }\n",
       "\n",
       "    .dataframe tbody tr th {\n",
       "        vertical-align: top;\n",
       "    }\n",
       "\n",
       "    .dataframe thead th {\n",
       "        text-align: right;\n",
       "    }\n",
       "</style>\n",
       "<table border=\"1\" class=\"dataframe\">\n",
       "  <thead>\n",
       "    <tr style=\"text-align: right;\">\n",
       "      <th></th>\n",
       "      <th>name</th>\n",
       "      <th>platform</th>\n",
       "      <th>year_of_release</th>\n",
       "      <th>genre</th>\n",
       "      <th>na_sales</th>\n",
       "      <th>eu_sales</th>\n",
       "      <th>jp_sales</th>\n",
       "      <th>other_sales</th>\n",
       "      <th>critic_score</th>\n",
       "      <th>user_score</th>\n",
       "      <th>rating</th>\n",
       "    </tr>\n",
       "  </thead>\n",
       "  <tbody>\n",
       "    <tr>\n",
       "      <th>659</th>\n",
       "      <td>NaN</td>\n",
       "      <td>GEN</td>\n",
       "      <td>1993.0</td>\n",
       "      <td>NaN</td>\n",
       "      <td>1.78</td>\n",
       "      <td>0.53</td>\n",
       "      <td>0.00</td>\n",
       "      <td>0.08</td>\n",
       "      <td>NaN</td>\n",
       "      <td>NaN</td>\n",
       "      <td>NaN</td>\n",
       "    </tr>\n",
       "    <tr>\n",
       "      <th>14244</th>\n",
       "      <td>NaN</td>\n",
       "      <td>GEN</td>\n",
       "      <td>1993.0</td>\n",
       "      <td>NaN</td>\n",
       "      <td>0.00</td>\n",
       "      <td>0.00</td>\n",
       "      <td>0.03</td>\n",
       "      <td>0.00</td>\n",
       "      <td>NaN</td>\n",
       "      <td>NaN</td>\n",
       "      <td>NaN</td>\n",
       "    </tr>\n",
       "  </tbody>\n",
       "</table>\n",
       "</div>"
      ],
      "text/plain": [
       "      name platform  year_of_release genre  na_sales  eu_sales  jp_sales  \\\n",
       "659    NaN      GEN           1993.0   NaN      1.78      0.53      0.00   \n",
       "14244  NaN      GEN           1993.0   NaN      0.00      0.00      0.03   \n",
       "\n",
       "       other_sales  critic_score user_score rating  \n",
       "659           0.08           NaN        NaN    NaN  \n",
       "14244         0.00           NaN        NaN    NaN  "
      ]
     },
     "execution_count": 9,
     "metadata": {},
     "output_type": "execute_result"
    }
   ],
   "source": [
    "games_df[games_df['name'].isna()]"
   ]
  },
  {
   "cell_type": "code",
   "execution_count": 10,
   "id": "88577c68",
   "metadata": {},
   "outputs": [],
   "source": [
    "games_df.dropna( subset = ['name'],inplace=True)"
   ]
  },
  {
   "cell_type": "code",
   "execution_count": 11,
   "id": "d3fbde3a",
   "metadata": {
    "scrolled": true
   },
   "outputs": [
    {
     "name": "stdout",
     "output_type": "stream",
     "text": [
      "11559\n",
      "11559\n"
     ]
    }
   ],
   "source": [
    "#Проверим нет ли ошибок в использовании строчных и прописных букв\n",
    "print(len(games_df['name'].unique()))\n",
    "print(len(games_df['name'].str.lower().unique()))"
   ]
  },
  {
   "cell_type": "code",
   "execution_count": 12,
   "id": "8d3139f0",
   "metadata": {
    "scrolled": true
   },
   "outputs": [
    {
     "name": "stdout",
     "output_type": "stream",
     "text": [
      "spongebob squarepants: game boy advance video volume 2 ['spongebob squarepants: game boy advance video volume 3', 'spongebob squarepants: game boy advance video volume 1']\n"
     ]
    },
    {
     "data": {
      "text/html": [
       "<div>\n",
       "<style scoped>\n",
       "    .dataframe tbody tr th:only-of-type {\n",
       "        vertical-align: middle;\n",
       "    }\n",
       "\n",
       "    .dataframe tbody tr th {\n",
       "        vertical-align: top;\n",
       "    }\n",
       "\n",
       "    .dataframe thead th {\n",
       "        text-align: right;\n",
       "    }\n",
       "</style>\n",
       "<table border=\"1\" class=\"dataframe\">\n",
       "  <thead>\n",
       "    <tr style=\"text-align: right;\">\n",
       "      <th></th>\n",
       "      <th>name</th>\n",
       "      <th>platform</th>\n",
       "      <th>year_of_release</th>\n",
       "      <th>genre</th>\n",
       "      <th>na_sales</th>\n",
       "      <th>eu_sales</th>\n",
       "      <th>jp_sales</th>\n",
       "      <th>other_sales</th>\n",
       "      <th>critic_score</th>\n",
       "      <th>user_score</th>\n",
       "      <th>rating</th>\n",
       "    </tr>\n",
       "  </thead>\n",
       "  <tbody>\n",
       "    <tr>\n",
       "      <th>3159</th>\n",
       "      <td>SpongeBob SquarePants: Game Boy Advance Video ...</td>\n",
       "      <td>GBA</td>\n",
       "      <td>2004.0</td>\n",
       "      <td>Misc</td>\n",
       "      <td>0.46</td>\n",
       "      <td>0.17</td>\n",
       "      <td>0.0</td>\n",
       "      <td>0.01</td>\n",
       "      <td>NaN</td>\n",
       "      <td>NaN</td>\n",
       "      <td>NaN</td>\n",
       "    </tr>\n",
       "    <tr>\n",
       "      <th>3755</th>\n",
       "      <td>SpongeBob SquarePants: Game Boy Advance Video ...</td>\n",
       "      <td>GBA</td>\n",
       "      <td>2004.0</td>\n",
       "      <td>Misc</td>\n",
       "      <td>0.38</td>\n",
       "      <td>0.14</td>\n",
       "      <td>0.0</td>\n",
       "      <td>0.01</td>\n",
       "      <td>NaN</td>\n",
       "      <td>NaN</td>\n",
       "      <td>NaN</td>\n",
       "    </tr>\n",
       "    <tr>\n",
       "      <th>7476</th>\n",
       "      <td>SpongeBob SquarePants: Game Boy Advance Video ...</td>\n",
       "      <td>GBA</td>\n",
       "      <td>2004.0</td>\n",
       "      <td>Misc</td>\n",
       "      <td>0.15</td>\n",
       "      <td>0.05</td>\n",
       "      <td>0.0</td>\n",
       "      <td>0.00</td>\n",
       "      <td>NaN</td>\n",
       "      <td>NaN</td>\n",
       "      <td>NaN</td>\n",
       "    </tr>\n",
       "  </tbody>\n",
       "</table>\n",
       "</div>"
      ],
      "text/plain": [
       "                                                   name platform  \\\n",
       "3159  SpongeBob SquarePants: Game Boy Advance Video ...      GBA   \n",
       "3755  SpongeBob SquarePants: Game Boy Advance Video ...      GBA   \n",
       "7476  SpongeBob SquarePants: Game Boy Advance Video ...      GBA   \n",
       "\n",
       "      year_of_release genre  na_sales  eu_sales  jp_sales  other_sales  \\\n",
       "3159           2004.0  Misc      0.46      0.17       0.0         0.01   \n",
       "3755           2004.0  Misc      0.38      0.14       0.0         0.01   \n",
       "7476           2004.0  Misc      0.15      0.05       0.0         0.00   \n",
       "\n",
       "      critic_score user_score rating  \n",
       "3159           NaN        NaN    NaN  \n",
       "3755           NaN        NaN    NaN  \n",
       "7476           NaN        NaN    NaN  "
      ]
     },
     "metadata": {},
     "output_type": "display_data"
    },
    {
     "name": "stdout",
     "output_type": "stream",
     "text": [
      "sid meier's civilization vi [\"sid meier's civilization v\"]\n"
     ]
    },
    {
     "data": {
      "text/html": [
       "<div>\n",
       "<style scoped>\n",
       "    .dataframe tbody tr th:only-of-type {\n",
       "        vertical-align: middle;\n",
       "    }\n",
       "\n",
       "    .dataframe tbody tr th {\n",
       "        vertical-align: top;\n",
       "    }\n",
       "\n",
       "    .dataframe thead th {\n",
       "        text-align: right;\n",
       "    }\n",
       "</style>\n",
       "<table border=\"1\" class=\"dataframe\">\n",
       "  <thead>\n",
       "    <tr style=\"text-align: right;\">\n",
       "      <th></th>\n",
       "      <th>name</th>\n",
       "      <th>platform</th>\n",
       "      <th>year_of_release</th>\n",
       "      <th>genre</th>\n",
       "      <th>na_sales</th>\n",
       "      <th>eu_sales</th>\n",
       "      <th>jp_sales</th>\n",
       "      <th>other_sales</th>\n",
       "      <th>critic_score</th>\n",
       "      <th>user_score</th>\n",
       "      <th>rating</th>\n",
       "    </tr>\n",
       "  </thead>\n",
       "  <tbody>\n",
       "    <tr>\n",
       "      <th>1078</th>\n",
       "      <td>Sid Meier's Civilization V</td>\n",
       "      <td>PC</td>\n",
       "      <td>2010.0</td>\n",
       "      <td>Strategy</td>\n",
       "      <td>0.98</td>\n",
       "      <td>0.52</td>\n",
       "      <td>0.0</td>\n",
       "      <td>0.17</td>\n",
       "      <td>90.0</td>\n",
       "      <td>7.9</td>\n",
       "      <td>E10+</td>\n",
       "    </tr>\n",
       "    <tr>\n",
       "      <th>6753</th>\n",
       "      <td>Sid Meier's Civilization VI</td>\n",
       "      <td>PC</td>\n",
       "      <td>2016.0</td>\n",
       "      <td>Strategy</td>\n",
       "      <td>0.09</td>\n",
       "      <td>0.13</td>\n",
       "      <td>0.0</td>\n",
       "      <td>0.02</td>\n",
       "      <td>88.0</td>\n",
       "      <td>7.3</td>\n",
       "      <td>E10+</td>\n",
       "    </tr>\n",
       "  </tbody>\n",
       "</table>\n",
       "</div>"
      ],
      "text/plain": [
       "                             name platform  year_of_release     genre  \\\n",
       "1078   Sid Meier's Civilization V       PC           2010.0  Strategy   \n",
       "6753  Sid Meier's Civilization VI       PC           2016.0  Strategy   \n",
       "\n",
       "      na_sales  eu_sales  jp_sales  other_sales  critic_score user_score  \\\n",
       "1078      0.98      0.52       0.0         0.17          90.0        7.9   \n",
       "6753      0.09      0.13       0.0         0.02          88.0        7.3   \n",
       "\n",
       "     rating  \n",
       "1078   E10+  \n",
       "6753   E10+  "
      ]
     },
     "metadata": {},
     "output_type": "display_data"
    },
    {
     "name": "stdout",
     "output_type": "stream",
     "text": [
      "disney's magical quest starring mickey and minnie [\"disney's magical quest 2 starring mickey and minnie\"]\n"
     ]
    },
    {
     "data": {
      "text/html": [
       "<div>\n",
       "<style scoped>\n",
       "    .dataframe tbody tr th:only-of-type {\n",
       "        vertical-align: middle;\n",
       "    }\n",
       "\n",
       "    .dataframe tbody tr th {\n",
       "        vertical-align: top;\n",
       "    }\n",
       "\n",
       "    .dataframe thead th {\n",
       "        text-align: right;\n",
       "    }\n",
       "</style>\n",
       "<table border=\"1\" class=\"dataframe\">\n",
       "  <thead>\n",
       "    <tr style=\"text-align: right;\">\n",
       "      <th></th>\n",
       "      <th>name</th>\n",
       "      <th>platform</th>\n",
       "      <th>year_of_release</th>\n",
       "      <th>genre</th>\n",
       "      <th>na_sales</th>\n",
       "      <th>eu_sales</th>\n",
       "      <th>jp_sales</th>\n",
       "      <th>other_sales</th>\n",
       "      <th>critic_score</th>\n",
       "      <th>user_score</th>\n",
       "      <th>rating</th>\n",
       "    </tr>\n",
       "  </thead>\n",
       "  <tbody>\n",
       "    <tr>\n",
       "      <th>7252</th>\n",
       "      <td>Disney's Magical Quest Starring Mickey and Minnie</td>\n",
       "      <td>GBA</td>\n",
       "      <td>2002.0</td>\n",
       "      <td>Action</td>\n",
       "      <td>0.16</td>\n",
       "      <td>0.06</td>\n",
       "      <td>0.0</td>\n",
       "      <td>0.0</td>\n",
       "      <td>NaN</td>\n",
       "      <td>NaN</td>\n",
       "      <td>NaN</td>\n",
       "    </tr>\n",
       "    <tr>\n",
       "      <th>12315</th>\n",
       "      <td>Disney's Magical Quest 2 Starring Mickey and M...</td>\n",
       "      <td>GBA</td>\n",
       "      <td>2003.0</td>\n",
       "      <td>Action</td>\n",
       "      <td>0.05</td>\n",
       "      <td>0.02</td>\n",
       "      <td>0.0</td>\n",
       "      <td>0.0</td>\n",
       "      <td>63.0</td>\n",
       "      <td>tbd</td>\n",
       "      <td>E</td>\n",
       "    </tr>\n",
       "  </tbody>\n",
       "</table>\n",
       "</div>"
      ],
      "text/plain": [
       "                                                    name platform  \\\n",
       "7252   Disney's Magical Quest Starring Mickey and Minnie      GBA   \n",
       "12315  Disney's Magical Quest 2 Starring Mickey and M...      GBA   \n",
       "\n",
       "       year_of_release   genre  na_sales  eu_sales  jp_sales  other_sales  \\\n",
       "7252            2002.0  Action      0.16      0.06       0.0          0.0   \n",
       "12315           2003.0  Action      0.05      0.02       0.0          0.0   \n",
       "\n",
       "       critic_score user_score rating  \n",
       "7252            NaN        NaN    NaN  \n",
       "12315          63.0        tbd      E  "
      ]
     },
     "metadata": {},
     "output_type": "display_data"
    },
    {
     "name": "stdout",
     "output_type": "stream",
     "text": [
      "kouchuu ouja mushi king: greatest champion e no michi ds ['kouchuu ouja mushi king: greatest champion e no michi ds 2']\n"
     ]
    },
    {
     "data": {
      "text/html": [
       "<div>\n",
       "<style scoped>\n",
       "    .dataframe tbody tr th:only-of-type {\n",
       "        vertical-align: middle;\n",
       "    }\n",
       "\n",
       "    .dataframe tbody tr th {\n",
       "        vertical-align: top;\n",
       "    }\n",
       "\n",
       "    .dataframe thead th {\n",
       "        text-align: right;\n",
       "    }\n",
       "</style>\n",
       "<table border=\"1\" class=\"dataframe\">\n",
       "  <thead>\n",
       "    <tr style=\"text-align: right;\">\n",
       "      <th></th>\n",
       "      <th>name</th>\n",
       "      <th>platform</th>\n",
       "      <th>year_of_release</th>\n",
       "      <th>genre</th>\n",
       "      <th>na_sales</th>\n",
       "      <th>eu_sales</th>\n",
       "      <th>jp_sales</th>\n",
       "      <th>other_sales</th>\n",
       "      <th>critic_score</th>\n",
       "      <th>user_score</th>\n",
       "      <th>rating</th>\n",
       "    </tr>\n",
       "  </thead>\n",
       "  <tbody>\n",
       "    <tr>\n",
       "      <th>7729</th>\n",
       "      <td>Kouchuu Ouja Mushi King: Greatest Champion e n...</td>\n",
       "      <td>DS</td>\n",
       "      <td>2005.0</td>\n",
       "      <td>Action</td>\n",
       "      <td>0.0</td>\n",
       "      <td>0.0</td>\n",
       "      <td>0.19</td>\n",
       "      <td>0.0</td>\n",
       "      <td>NaN</td>\n",
       "      <td>NaN</td>\n",
       "      <td>NaN</td>\n",
       "    </tr>\n",
       "    <tr>\n",
       "      <th>9408</th>\n",
       "      <td>Kouchuu Ouja Mushi King: Greatest Champion e n...</td>\n",
       "      <td>DS</td>\n",
       "      <td>2006.0</td>\n",
       "      <td>Action</td>\n",
       "      <td>0.0</td>\n",
       "      <td>0.0</td>\n",
       "      <td>0.13</td>\n",
       "      <td>0.0</td>\n",
       "      <td>NaN</td>\n",
       "      <td>NaN</td>\n",
       "      <td>NaN</td>\n",
       "    </tr>\n",
       "  </tbody>\n",
       "</table>\n",
       "</div>"
      ],
      "text/plain": [
       "                                                   name platform  \\\n",
       "7729  Kouchuu Ouja Mushi King: Greatest Champion e n...       DS   \n",
       "9408  Kouchuu Ouja Mushi King: Greatest Champion e n...       DS   \n",
       "\n",
       "      year_of_release   genre  na_sales  eu_sales  jp_sales  other_sales  \\\n",
       "7729           2005.0  Action       0.0       0.0      0.19          0.0   \n",
       "9408           2006.0  Action       0.0       0.0      0.13          0.0   \n",
       "\n",
       "      critic_score user_score rating  \n",
       "7729           NaN        NaN    NaN  \n",
       "9408           NaN        NaN    NaN  "
      ]
     },
     "metadata": {},
     "output_type": "display_data"
    },
    {
     "name": "stdout",
     "output_type": "stream",
     "text": [
      "sid meier's civilization iv [\"sid meier's civilization v\"]\n"
     ]
    },
    {
     "data": {
      "text/html": [
       "<div>\n",
       "<style scoped>\n",
       "    .dataframe tbody tr th:only-of-type {\n",
       "        vertical-align: middle;\n",
       "    }\n",
       "\n",
       "    .dataframe tbody tr th {\n",
       "        vertical-align: top;\n",
       "    }\n",
       "\n",
       "    .dataframe thead th {\n",
       "        text-align: right;\n",
       "    }\n",
       "</style>\n",
       "<table border=\"1\" class=\"dataframe\">\n",
       "  <thead>\n",
       "    <tr style=\"text-align: right;\">\n",
       "      <th></th>\n",
       "      <th>name</th>\n",
       "      <th>platform</th>\n",
       "      <th>year_of_release</th>\n",
       "      <th>genre</th>\n",
       "      <th>na_sales</th>\n",
       "      <th>eu_sales</th>\n",
       "      <th>jp_sales</th>\n",
       "      <th>other_sales</th>\n",
       "      <th>critic_score</th>\n",
       "      <th>user_score</th>\n",
       "      <th>rating</th>\n",
       "    </tr>\n",
       "  </thead>\n",
       "  <tbody>\n",
       "    <tr>\n",
       "      <th>1078</th>\n",
       "      <td>Sid Meier's Civilization V</td>\n",
       "      <td>PC</td>\n",
       "      <td>2010.0</td>\n",
       "      <td>Strategy</td>\n",
       "      <td>0.98</td>\n",
       "      <td>0.52</td>\n",
       "      <td>0.0</td>\n",
       "      <td>0.17</td>\n",
       "      <td>90.0</td>\n",
       "      <td>7.9</td>\n",
       "      <td>E10+</td>\n",
       "    </tr>\n",
       "    <tr>\n",
       "      <th>8464</th>\n",
       "      <td>Sid Meier's Civilization IV</td>\n",
       "      <td>PC</td>\n",
       "      <td>2005.0</td>\n",
       "      <td>Strategy</td>\n",
       "      <td>0.02</td>\n",
       "      <td>0.12</td>\n",
       "      <td>0.0</td>\n",
       "      <td>0.03</td>\n",
       "      <td>94.0</td>\n",
       "      <td>8.3</td>\n",
       "      <td>E10+</td>\n",
       "    </tr>\n",
       "  </tbody>\n",
       "</table>\n",
       "</div>"
      ],
      "text/plain": [
       "                             name platform  year_of_release     genre  \\\n",
       "1078   Sid Meier's Civilization V       PC           2010.0  Strategy   \n",
       "8464  Sid Meier's Civilization IV       PC           2005.0  Strategy   \n",
       "\n",
       "      na_sales  eu_sales  jp_sales  other_sales  critic_score user_score  \\\n",
       "1078      0.98      0.52       0.0         0.17          90.0        7.9   \n",
       "8464      0.02      0.12       0.0         0.03          94.0        8.3   \n",
       "\n",
       "     rating  \n",
       "1078   E10+  \n",
       "8464   E10+  "
      ]
     },
     "metadata": {},
     "output_type": "display_data"
    },
    {
     "name": "stdout",
     "output_type": "stream",
     "text": [
      "kidou senshi gundam: giren no yabou - axis no kyoui ['kidou senshi gundam: giren no yabou - axis no kyoui v']\n"
     ]
    },
    {
     "data": {
      "text/html": [
       "<div>\n",
       "<style scoped>\n",
       "    .dataframe tbody tr th:only-of-type {\n",
       "        vertical-align: middle;\n",
       "    }\n",
       "\n",
       "    .dataframe tbody tr th {\n",
       "        vertical-align: top;\n",
       "    }\n",
       "\n",
       "    .dataframe thead th {\n",
       "        text-align: right;\n",
       "    }\n",
       "</style>\n",
       "<table border=\"1\" class=\"dataframe\">\n",
       "  <thead>\n",
       "    <tr style=\"text-align: right;\">\n",
       "      <th></th>\n",
       "      <th>name</th>\n",
       "      <th>platform</th>\n",
       "      <th>year_of_release</th>\n",
       "      <th>genre</th>\n",
       "      <th>na_sales</th>\n",
       "      <th>eu_sales</th>\n",
       "      <th>jp_sales</th>\n",
       "      <th>other_sales</th>\n",
       "      <th>critic_score</th>\n",
       "      <th>user_score</th>\n",
       "      <th>rating</th>\n",
       "    </tr>\n",
       "  </thead>\n",
       "  <tbody>\n",
       "    <tr>\n",
       "      <th>8656</th>\n",
       "      <td>Kidou Senshi Gundam: Giren no Yabou - Axis no ...</td>\n",
       "      <td>PSP</td>\n",
       "      <td>2008.0</td>\n",
       "      <td>Strategy</td>\n",
       "      <td>0.0</td>\n",
       "      <td>0.0</td>\n",
       "      <td>0.16</td>\n",
       "      <td>0.0</td>\n",
       "      <td>NaN</td>\n",
       "      <td>NaN</td>\n",
       "      <td>NaN</td>\n",
       "    </tr>\n",
       "    <tr>\n",
       "      <th>11915</th>\n",
       "      <td>Kidou Senshi Gundam: Giren no Yabou - Axis no ...</td>\n",
       "      <td>PSP</td>\n",
       "      <td>2009.0</td>\n",
       "      <td>Strategy</td>\n",
       "      <td>0.0</td>\n",
       "      <td>0.0</td>\n",
       "      <td>0.07</td>\n",
       "      <td>0.0</td>\n",
       "      <td>NaN</td>\n",
       "      <td>NaN</td>\n",
       "      <td>NaN</td>\n",
       "    </tr>\n",
       "  </tbody>\n",
       "</table>\n",
       "</div>"
      ],
      "text/plain": [
       "                                                    name platform  \\\n",
       "8656   Kidou Senshi Gundam: Giren no Yabou - Axis no ...      PSP   \n",
       "11915  Kidou Senshi Gundam: Giren no Yabou - Axis no ...      PSP   \n",
       "\n",
       "       year_of_release     genre  na_sales  eu_sales  jp_sales  other_sales  \\\n",
       "8656            2008.0  Strategy       0.0       0.0      0.16          0.0   \n",
       "11915           2009.0  Strategy       0.0       0.0      0.07          0.0   \n",
       "\n",
       "       critic_score user_score rating  \n",
       "8656            NaN        NaN    NaN  \n",
       "11915           NaN        NaN    NaN  "
      ]
     },
     "metadata": {},
     "output_type": "display_data"
    },
    {
     "name": "stdout",
     "output_type": "stream",
     "text": [
      "romance of the three kingdoms x ['romance of the three kingdoms xi', 'romance of the three kingdoms ix']\n"
     ]
    },
    {
     "data": {
      "text/html": [
       "<div>\n",
       "<style scoped>\n",
       "    .dataframe tbody tr th:only-of-type {\n",
       "        vertical-align: middle;\n",
       "    }\n",
       "\n",
       "    .dataframe tbody tr th {\n",
       "        vertical-align: top;\n",
       "    }\n",
       "\n",
       "    .dataframe thead th {\n",
       "        text-align: right;\n",
       "    }\n",
       "</style>\n",
       "<table border=\"1\" class=\"dataframe\">\n",
       "  <thead>\n",
       "    <tr style=\"text-align: right;\">\n",
       "      <th></th>\n",
       "      <th>name</th>\n",
       "      <th>platform</th>\n",
       "      <th>year_of_release</th>\n",
       "      <th>genre</th>\n",
       "      <th>na_sales</th>\n",
       "      <th>eu_sales</th>\n",
       "      <th>jp_sales</th>\n",
       "      <th>other_sales</th>\n",
       "      <th>critic_score</th>\n",
       "      <th>user_score</th>\n",
       "      <th>rating</th>\n",
       "    </tr>\n",
       "  </thead>\n",
       "  <tbody>\n",
       "    <tr>\n",
       "      <th>10982</th>\n",
       "      <td>Romance of the Three Kingdoms X</td>\n",
       "      <td>PS2</td>\n",
       "      <td>2005.0</td>\n",
       "      <td>Strategy</td>\n",
       "      <td>0.04</td>\n",
       "      <td>0.03</td>\n",
       "      <td>0.00</td>\n",
       "      <td>0.01</td>\n",
       "      <td>71.0</td>\n",
       "      <td>8.5</td>\n",
       "      <td>T</td>\n",
       "    </tr>\n",
       "    <tr>\n",
       "      <th>11887</th>\n",
       "      <td>Romance of the Three Kingdoms XI</td>\n",
       "      <td>PS2</td>\n",
       "      <td>2007.0</td>\n",
       "      <td>Strategy</td>\n",
       "      <td>0.00</td>\n",
       "      <td>0.00</td>\n",
       "      <td>0.07</td>\n",
       "      <td>0.00</td>\n",
       "      <td>69.0</td>\n",
       "      <td>8.4</td>\n",
       "      <td>E10+</td>\n",
       "    </tr>\n",
       "    <tr>\n",
       "      <th>11980</th>\n",
       "      <td>Romance of the Three Kingdoms IX</td>\n",
       "      <td>PS2</td>\n",
       "      <td>2003.0</td>\n",
       "      <td>Strategy</td>\n",
       "      <td>0.03</td>\n",
       "      <td>0.03</td>\n",
       "      <td>0.00</td>\n",
       "      <td>0.01</td>\n",
       "      <td>74.0</td>\n",
       "      <td>8.9</td>\n",
       "      <td>E</td>\n",
       "    </tr>\n",
       "  </tbody>\n",
       "</table>\n",
       "</div>"
      ],
      "text/plain": [
       "                                   name platform  year_of_release     genre  \\\n",
       "10982   Romance of the Three Kingdoms X      PS2           2005.0  Strategy   \n",
       "11887  Romance of the Three Kingdoms XI      PS2           2007.0  Strategy   \n",
       "11980  Romance of the Three Kingdoms IX      PS2           2003.0  Strategy   \n",
       "\n",
       "       na_sales  eu_sales  jp_sales  other_sales  critic_score user_score  \\\n",
       "10982      0.04      0.03      0.00         0.01          71.0        8.5   \n",
       "11887      0.00      0.00      0.07         0.00          69.0        8.4   \n",
       "11980      0.03      0.03      0.00         0.01          74.0        8.9   \n",
       "\n",
       "      rating  \n",
       "10982      T  \n",
       "11887   E10+  \n",
       "11980      E  "
      ]
     },
     "metadata": {},
     "output_type": "display_data"
    },
    {
     "name": "stdout",
     "output_type": "stream",
     "text": [
      "pachitte chonmage tatsujin 13: pachinko hissatsu shigotojin iii ['pachitte chonmage tatsujin 16: pachinko hissatsu shigotojin iii']\n"
     ]
    },
    {
     "data": {
      "text/html": [
       "<div>\n",
       "<style scoped>\n",
       "    .dataframe tbody tr th:only-of-type {\n",
       "        vertical-align: middle;\n",
       "    }\n",
       "\n",
       "    .dataframe tbody tr th {\n",
       "        vertical-align: top;\n",
       "    }\n",
       "\n",
       "    .dataframe thead th {\n",
       "        text-align: right;\n",
       "    }\n",
       "</style>\n",
       "<table border=\"1\" class=\"dataframe\">\n",
       "  <thead>\n",
       "    <tr style=\"text-align: right;\">\n",
       "      <th></th>\n",
       "      <th>name</th>\n",
       "      <th>platform</th>\n",
       "      <th>year_of_release</th>\n",
       "      <th>genre</th>\n",
       "      <th>na_sales</th>\n",
       "      <th>eu_sales</th>\n",
       "      <th>jp_sales</th>\n",
       "      <th>other_sales</th>\n",
       "      <th>critic_score</th>\n",
       "      <th>user_score</th>\n",
       "      <th>rating</th>\n",
       "    </tr>\n",
       "  </thead>\n",
       "  <tbody>\n",
       "    <tr>\n",
       "      <th>11300</th>\n",
       "      <td>Pachitte Chonmage Tatsujin 13: Pachinko Hissat...</td>\n",
       "      <td>PS2</td>\n",
       "      <td>2007.0</td>\n",
       "      <td>Misc</td>\n",
       "      <td>0.0</td>\n",
       "      <td>0.0</td>\n",
       "      <td>0.08</td>\n",
       "      <td>0.0</td>\n",
       "      <td>NaN</td>\n",
       "      <td>NaN</td>\n",
       "      <td>NaN</td>\n",
       "    </tr>\n",
       "    <tr>\n",
       "      <th>16160</th>\n",
       "      <td>Pachitte Chonmage Tatsujin 16: Pachinko Hissat...</td>\n",
       "      <td>PS2</td>\n",
       "      <td>2010.0</td>\n",
       "      <td>Misc</td>\n",
       "      <td>0.0</td>\n",
       "      <td>0.0</td>\n",
       "      <td>0.01</td>\n",
       "      <td>0.0</td>\n",
       "      <td>NaN</td>\n",
       "      <td>NaN</td>\n",
       "      <td>NaN</td>\n",
       "    </tr>\n",
       "  </tbody>\n",
       "</table>\n",
       "</div>"
      ],
      "text/plain": [
       "                                                    name platform  \\\n",
       "11300  Pachitte Chonmage Tatsujin 13: Pachinko Hissat...      PS2   \n",
       "16160  Pachitte Chonmage Tatsujin 16: Pachinko Hissat...      PS2   \n",
       "\n",
       "       year_of_release genre  na_sales  eu_sales  jp_sales  other_sales  \\\n",
       "11300           2007.0  Misc       0.0       0.0      0.08          0.0   \n",
       "16160           2010.0  Misc       0.0       0.0      0.01          0.0   \n",
       "\n",
       "       critic_score user_score rating  \n",
       "11300           NaN        NaN    NaN  \n",
       "16160           NaN        NaN    NaN  "
      ]
     },
     "metadata": {},
     "output_type": "display_data"
    },
    {
     "name": "stdout",
     "output_type": "stream",
     "text": [
      "pq: practical intelligence quotient ['pq2: practical intelligence quotient']\n"
     ]
    },
    {
     "data": {
      "text/html": [
       "<div>\n",
       "<style scoped>\n",
       "    .dataframe tbody tr th:only-of-type {\n",
       "        vertical-align: middle;\n",
       "    }\n",
       "\n",
       "    .dataframe tbody tr th {\n",
       "        vertical-align: top;\n",
       "    }\n",
       "\n",
       "    .dataframe thead th {\n",
       "        text-align: right;\n",
       "    }\n",
       "</style>\n",
       "<table border=\"1\" class=\"dataframe\">\n",
       "  <thead>\n",
       "    <tr style=\"text-align: right;\">\n",
       "      <th></th>\n",
       "      <th>name</th>\n",
       "      <th>platform</th>\n",
       "      <th>year_of_release</th>\n",
       "      <th>genre</th>\n",
       "      <th>na_sales</th>\n",
       "      <th>eu_sales</th>\n",
       "      <th>jp_sales</th>\n",
       "      <th>other_sales</th>\n",
       "      <th>critic_score</th>\n",
       "      <th>user_score</th>\n",
       "      <th>rating</th>\n",
       "    </tr>\n",
       "  </thead>\n",
       "  <tbody>\n",
       "    <tr>\n",
       "      <th>11716</th>\n",
       "      <td>PQ: Practical Intelligence Quotient</td>\n",
       "      <td>PSP</td>\n",
       "      <td>2005.0</td>\n",
       "      <td>Puzzle</td>\n",
       "      <td>0.07</td>\n",
       "      <td>0.0</td>\n",
       "      <td>0.0</td>\n",
       "      <td>0.01</td>\n",
       "      <td>69.0</td>\n",
       "      <td>tbd</td>\n",
       "      <td>E</td>\n",
       "    </tr>\n",
       "    <tr>\n",
       "      <th>13210</th>\n",
       "      <td>PQ2: Practical Intelligence Quotient</td>\n",
       "      <td>PSP</td>\n",
       "      <td>2006.0</td>\n",
       "      <td>Puzzle</td>\n",
       "      <td>0.04</td>\n",
       "      <td>0.0</td>\n",
       "      <td>0.0</td>\n",
       "      <td>0.00</td>\n",
       "      <td>74.0</td>\n",
       "      <td>7.8</td>\n",
       "      <td>E</td>\n",
       "    </tr>\n",
       "  </tbody>\n",
       "</table>\n",
       "</div>"
      ],
      "text/plain": [
       "                                       name platform  year_of_release   genre  \\\n",
       "11716   PQ: Practical Intelligence Quotient      PSP           2005.0  Puzzle   \n",
       "13210  PQ2: Practical Intelligence Quotient      PSP           2006.0  Puzzle   \n",
       "\n",
       "       na_sales  eu_sales  jp_sales  other_sales  critic_score user_score  \\\n",
       "11716      0.07       0.0       0.0         0.01          69.0        tbd   \n",
       "13210      0.04       0.0       0.0         0.00          74.0        7.8   \n",
       "\n",
       "      rating  \n",
       "11716      E  \n",
       "13210      E  "
      ]
     },
     "metadata": {},
     "output_type": "display_data"
    },
    {
     "name": "stdout",
     "output_type": "stream",
     "text": [
      "tv anime idolm@ster: cinderella girls g4u! pack vol.9 ['tv anime idolm@ster: cinderella girls g4u! pack vol.8', 'tv anime idolm@ster: cinderella girls g4u! pack vol.7', 'tv anime idolm@ster: cinderella girls g4u! pack vol.6']\n"
     ]
    },
    {
     "data": {
      "text/html": [
       "<div>\n",
       "<style scoped>\n",
       "    .dataframe tbody tr th:only-of-type {\n",
       "        vertical-align: middle;\n",
       "    }\n",
       "\n",
       "    .dataframe tbody tr th {\n",
       "        vertical-align: top;\n",
       "    }\n",
       "\n",
       "    .dataframe thead th {\n",
       "        text-align: right;\n",
       "    }\n",
       "</style>\n",
       "<table border=\"1\" class=\"dataframe\">\n",
       "  <thead>\n",
       "    <tr style=\"text-align: right;\">\n",
       "      <th></th>\n",
       "      <th>name</th>\n",
       "      <th>platform</th>\n",
       "      <th>year_of_release</th>\n",
       "      <th>genre</th>\n",
       "      <th>na_sales</th>\n",
       "      <th>eu_sales</th>\n",
       "      <th>jp_sales</th>\n",
       "      <th>other_sales</th>\n",
       "      <th>critic_score</th>\n",
       "      <th>user_score</th>\n",
       "      <th>rating</th>\n",
       "    </tr>\n",
       "  </thead>\n",
       "  <tbody>\n",
       "    <tr>\n",
       "      <th>14947</th>\n",
       "      <td>TV Anime Idolm@ster: Cinderella Girls G4U! Pac...</td>\n",
       "      <td>PS3</td>\n",
       "      <td>2016.0</td>\n",
       "      <td>Misc</td>\n",
       "      <td>0.0</td>\n",
       "      <td>0.0</td>\n",
       "      <td>0.03</td>\n",
       "      <td>0.0</td>\n",
       "      <td>NaN</td>\n",
       "      <td>NaN</td>\n",
       "      <td>NaN</td>\n",
       "    </tr>\n",
       "    <tr>\n",
       "      <th>15013</th>\n",
       "      <td>TV Anime Idolm@ster: Cinderella Girls G4U! Pac...</td>\n",
       "      <td>PS3</td>\n",
       "      <td>2015.0</td>\n",
       "      <td>Adventure</td>\n",
       "      <td>0.0</td>\n",
       "      <td>0.0</td>\n",
       "      <td>0.02</td>\n",
       "      <td>0.0</td>\n",
       "      <td>NaN</td>\n",
       "      <td>NaN</td>\n",
       "      <td>NaN</td>\n",
       "    </tr>\n",
       "    <tr>\n",
       "      <th>15452</th>\n",
       "      <td>TV Anime Idolm@ster: Cinderella Girls G4U! Pac...</td>\n",
       "      <td>PS3</td>\n",
       "      <td>2015.0</td>\n",
       "      <td>Misc</td>\n",
       "      <td>0.0</td>\n",
       "      <td>0.0</td>\n",
       "      <td>0.02</td>\n",
       "      <td>0.0</td>\n",
       "      <td>NaN</td>\n",
       "      <td>NaN</td>\n",
       "      <td>NaN</td>\n",
       "    </tr>\n",
       "    <tr>\n",
       "      <th>15620</th>\n",
       "      <td>TV Anime Idolm@ster: Cinderella Girls G4U! Pac...</td>\n",
       "      <td>PS3</td>\n",
       "      <td>2016.0</td>\n",
       "      <td>Misc</td>\n",
       "      <td>0.0</td>\n",
       "      <td>0.0</td>\n",
       "      <td>0.02</td>\n",
       "      <td>0.0</td>\n",
       "      <td>NaN</td>\n",
       "      <td>NaN</td>\n",
       "      <td>NaN</td>\n",
       "    </tr>\n",
       "  </tbody>\n",
       "</table>\n",
       "</div>"
      ],
      "text/plain": [
       "                                                    name platform  \\\n",
       "14947  TV Anime Idolm@ster: Cinderella Girls G4U! Pac...      PS3   \n",
       "15013  TV Anime Idolm@ster: Cinderella Girls G4U! Pac...      PS3   \n",
       "15452  TV Anime Idolm@ster: Cinderella Girls G4U! Pac...      PS3   \n",
       "15620  TV Anime Idolm@ster: Cinderella Girls G4U! Pac...      PS3   \n",
       "\n",
       "       year_of_release      genre  na_sales  eu_sales  jp_sales  other_sales  \\\n",
       "14947           2016.0       Misc       0.0       0.0      0.03          0.0   \n",
       "15013           2015.0  Adventure       0.0       0.0      0.02          0.0   \n",
       "15452           2015.0       Misc       0.0       0.0      0.02          0.0   \n",
       "15620           2016.0       Misc       0.0       0.0      0.02          0.0   \n",
       "\n",
       "       critic_score user_score rating  \n",
       "14947           NaN        NaN    NaN  \n",
       "15013           NaN        NaN    NaN  \n",
       "15452           NaN        NaN    NaN  \n",
       "15620           NaN        NaN    NaN  "
      ]
     },
     "metadata": {},
     "output_type": "display_data"
    },
    {
     "name": "stdout",
     "output_type": "stream",
     "text": [
      "tv anime idolm@ster: cinderella girls g4u! pack vol.7 ['tv anime idolm@ster: cinderella girls g4u! pack vol.8', 'tv anime idolm@ster: cinderella girls g4u! pack vol.6', 'tv anime idolm@ster: cinderella girls g4u! pack vol.5']\n"
     ]
    },
    {
     "data": {
      "text/html": [
       "<div>\n",
       "<style scoped>\n",
       "    .dataframe tbody tr th:only-of-type {\n",
       "        vertical-align: middle;\n",
       "    }\n",
       "\n",
       "    .dataframe tbody tr th {\n",
       "        vertical-align: top;\n",
       "    }\n",
       "\n",
       "    .dataframe thead th {\n",
       "        text-align: right;\n",
       "    }\n",
       "</style>\n",
       "<table border=\"1\" class=\"dataframe\">\n",
       "  <thead>\n",
       "    <tr style=\"text-align: right;\">\n",
       "      <th></th>\n",
       "      <th>name</th>\n",
       "      <th>platform</th>\n",
       "      <th>year_of_release</th>\n",
       "      <th>genre</th>\n",
       "      <th>na_sales</th>\n",
       "      <th>eu_sales</th>\n",
       "      <th>jp_sales</th>\n",
       "      <th>other_sales</th>\n",
       "      <th>critic_score</th>\n",
       "      <th>user_score</th>\n",
       "      <th>rating</th>\n",
       "    </tr>\n",
       "  </thead>\n",
       "  <tbody>\n",
       "    <tr>\n",
       "      <th>15013</th>\n",
       "      <td>TV Anime Idolm@ster: Cinderella Girls G4U! Pac...</td>\n",
       "      <td>PS3</td>\n",
       "      <td>2015.0</td>\n",
       "      <td>Adventure</td>\n",
       "      <td>0.0</td>\n",
       "      <td>0.0</td>\n",
       "      <td>0.02</td>\n",
       "      <td>0.0</td>\n",
       "      <td>NaN</td>\n",
       "      <td>NaN</td>\n",
       "      <td>NaN</td>\n",
       "    </tr>\n",
       "    <tr>\n",
       "      <th>15452</th>\n",
       "      <td>TV Anime Idolm@ster: Cinderella Girls G4U! Pac...</td>\n",
       "      <td>PS3</td>\n",
       "      <td>2015.0</td>\n",
       "      <td>Misc</td>\n",
       "      <td>0.0</td>\n",
       "      <td>0.0</td>\n",
       "      <td>0.02</td>\n",
       "      <td>0.0</td>\n",
       "      <td>NaN</td>\n",
       "      <td>NaN</td>\n",
       "      <td>NaN</td>\n",
       "    </tr>\n",
       "    <tr>\n",
       "      <th>15552</th>\n",
       "      <td>TV Anime Idolm@ster: Cinderella Girls G4U! Pac...</td>\n",
       "      <td>PS3</td>\n",
       "      <td>2015.0</td>\n",
       "      <td>Action</td>\n",
       "      <td>0.0</td>\n",
       "      <td>0.0</td>\n",
       "      <td>0.02</td>\n",
       "      <td>0.0</td>\n",
       "      <td>NaN</td>\n",
       "      <td>NaN</td>\n",
       "      <td>NaN</td>\n",
       "    </tr>\n",
       "    <tr>\n",
       "      <th>15620</th>\n",
       "      <td>TV Anime Idolm@ster: Cinderella Girls G4U! Pac...</td>\n",
       "      <td>PS3</td>\n",
       "      <td>2016.0</td>\n",
       "      <td>Misc</td>\n",
       "      <td>0.0</td>\n",
       "      <td>0.0</td>\n",
       "      <td>0.02</td>\n",
       "      <td>0.0</td>\n",
       "      <td>NaN</td>\n",
       "      <td>NaN</td>\n",
       "      <td>NaN</td>\n",
       "    </tr>\n",
       "  </tbody>\n",
       "</table>\n",
       "</div>"
      ],
      "text/plain": [
       "                                                    name platform  \\\n",
       "15013  TV Anime Idolm@ster: Cinderella Girls G4U! Pac...      PS3   \n",
       "15452  TV Anime Idolm@ster: Cinderella Girls G4U! Pac...      PS3   \n",
       "15552  TV Anime Idolm@ster: Cinderella Girls G4U! Pac...      PS3   \n",
       "15620  TV Anime Idolm@ster: Cinderella Girls G4U! Pac...      PS3   \n",
       "\n",
       "       year_of_release      genre  na_sales  eu_sales  jp_sales  other_sales  \\\n",
       "15013           2015.0  Adventure       0.0       0.0      0.02          0.0   \n",
       "15452           2015.0       Misc       0.0       0.0      0.02          0.0   \n",
       "15552           2015.0     Action       0.0       0.0      0.02          0.0   \n",
       "15620           2016.0       Misc       0.0       0.0      0.02          0.0   \n",
       "\n",
       "       critic_score user_score rating  \n",
       "15013           NaN        NaN    NaN  \n",
       "15452           NaN        NaN    NaN  \n",
       "15552           NaN        NaN    NaN  \n",
       "15620           NaN        NaN    NaN  "
      ]
     },
     "metadata": {},
     "output_type": "display_data"
    },
    {
     "name": "stdout",
     "output_type": "stream",
     "text": [
      "tv anime idolm@ster: cinderella girls g4u! pack vol.5 ['tv anime idolm@ster: cinderella girls g4u! pack vol.8', 'tv anime idolm@ster: cinderella girls g4u! pack vol.6', 'tv anime idolm@ster: cinderella girls g4u! pack vol.4']\n"
     ]
    },
    {
     "data": {
      "text/html": [
       "<div>\n",
       "<style scoped>\n",
       "    .dataframe tbody tr th:only-of-type {\n",
       "        vertical-align: middle;\n",
       "    }\n",
       "\n",
       "    .dataframe tbody tr th {\n",
       "        vertical-align: top;\n",
       "    }\n",
       "\n",
       "    .dataframe thead th {\n",
       "        text-align: right;\n",
       "    }\n",
       "</style>\n",
       "<table border=\"1\" class=\"dataframe\">\n",
       "  <thead>\n",
       "    <tr style=\"text-align: right;\">\n",
       "      <th></th>\n",
       "      <th>name</th>\n",
       "      <th>platform</th>\n",
       "      <th>year_of_release</th>\n",
       "      <th>genre</th>\n",
       "      <th>na_sales</th>\n",
       "      <th>eu_sales</th>\n",
       "      <th>jp_sales</th>\n",
       "      <th>other_sales</th>\n",
       "      <th>critic_score</th>\n",
       "      <th>user_score</th>\n",
       "      <th>rating</th>\n",
       "    </tr>\n",
       "  </thead>\n",
       "  <tbody>\n",
       "    <tr>\n",
       "      <th>15013</th>\n",
       "      <td>TV Anime Idolm@ster: Cinderella Girls G4U! Pac...</td>\n",
       "      <td>PS3</td>\n",
       "      <td>2015.0</td>\n",
       "      <td>Adventure</td>\n",
       "      <td>0.0</td>\n",
       "      <td>0.0</td>\n",
       "      <td>0.02</td>\n",
       "      <td>0.0</td>\n",
       "      <td>NaN</td>\n",
       "      <td>NaN</td>\n",
       "      <td>NaN</td>\n",
       "    </tr>\n",
       "    <tr>\n",
       "      <th>15552</th>\n",
       "      <td>TV Anime Idolm@ster: Cinderella Girls G4U! Pac...</td>\n",
       "      <td>PS3</td>\n",
       "      <td>2015.0</td>\n",
       "      <td>Action</td>\n",
       "      <td>0.0</td>\n",
       "      <td>0.0</td>\n",
       "      <td>0.02</td>\n",
       "      <td>0.0</td>\n",
       "      <td>NaN</td>\n",
       "      <td>NaN</td>\n",
       "      <td>NaN</td>\n",
       "    </tr>\n",
       "    <tr>\n",
       "      <th>15620</th>\n",
       "      <td>TV Anime Idolm@ster: Cinderella Girls G4U! Pac...</td>\n",
       "      <td>PS3</td>\n",
       "      <td>2016.0</td>\n",
       "      <td>Misc</td>\n",
       "      <td>0.0</td>\n",
       "      <td>0.0</td>\n",
       "      <td>0.02</td>\n",
       "      <td>0.0</td>\n",
       "      <td>NaN</td>\n",
       "      <td>NaN</td>\n",
       "      <td>NaN</td>\n",
       "    </tr>\n",
       "    <tr>\n",
       "      <th>15836</th>\n",
       "      <td>TV Anime Idolm@ster: Cinderella Girls G4U! Pac...</td>\n",
       "      <td>PS3</td>\n",
       "      <td>2015.0</td>\n",
       "      <td>Action</td>\n",
       "      <td>0.0</td>\n",
       "      <td>0.0</td>\n",
       "      <td>0.02</td>\n",
       "      <td>0.0</td>\n",
       "      <td>NaN</td>\n",
       "      <td>NaN</td>\n",
       "      <td>NaN</td>\n",
       "    </tr>\n",
       "  </tbody>\n",
       "</table>\n",
       "</div>"
      ],
      "text/plain": [
       "                                                    name platform  \\\n",
       "15013  TV Anime Idolm@ster: Cinderella Girls G4U! Pac...      PS3   \n",
       "15552  TV Anime Idolm@ster: Cinderella Girls G4U! Pac...      PS3   \n",
       "15620  TV Anime Idolm@ster: Cinderella Girls G4U! Pac...      PS3   \n",
       "15836  TV Anime Idolm@ster: Cinderella Girls G4U! Pac...      PS3   \n",
       "\n",
       "       year_of_release      genre  na_sales  eu_sales  jp_sales  other_sales  \\\n",
       "15013           2015.0  Adventure       0.0       0.0      0.02          0.0   \n",
       "15552           2015.0     Action       0.0       0.0      0.02          0.0   \n",
       "15620           2016.0       Misc       0.0       0.0      0.02          0.0   \n",
       "15836           2015.0     Action       0.0       0.0      0.02          0.0   \n",
       "\n",
       "       critic_score user_score rating  \n",
       "15013           NaN        NaN    NaN  \n",
       "15552           NaN        NaN    NaN  \n",
       "15620           NaN        NaN    NaN  \n",
       "15836           NaN        NaN    NaN  "
      ]
     },
     "metadata": {},
     "output_type": "display_data"
    },
    {
     "name": "stdout",
     "output_type": "stream",
     "text": [
      "tv anime idolm@ster: cinderella girls g4u! pack vol.3 ['tv anime idolm@ster: cinderella girls g4u! pack vol.8', 'tv anime idolm@ster: cinderella girls g4u! pack vol.6', 'tv anime idolm@ster: cinderella girls g4u! pack vol.4']\n"
     ]
    },
    {
     "data": {
      "text/html": [
       "<div>\n",
       "<style scoped>\n",
       "    .dataframe tbody tr th:only-of-type {\n",
       "        vertical-align: middle;\n",
       "    }\n",
       "\n",
       "    .dataframe tbody tr th {\n",
       "        vertical-align: top;\n",
       "    }\n",
       "\n",
       "    .dataframe thead th {\n",
       "        text-align: right;\n",
       "    }\n",
       "</style>\n",
       "<table border=\"1\" class=\"dataframe\">\n",
       "  <thead>\n",
       "    <tr style=\"text-align: right;\">\n",
       "      <th></th>\n",
       "      <th>name</th>\n",
       "      <th>platform</th>\n",
       "      <th>year_of_release</th>\n",
       "      <th>genre</th>\n",
       "      <th>na_sales</th>\n",
       "      <th>eu_sales</th>\n",
       "      <th>jp_sales</th>\n",
       "      <th>other_sales</th>\n",
       "      <th>critic_score</th>\n",
       "      <th>user_score</th>\n",
       "      <th>rating</th>\n",
       "    </tr>\n",
       "  </thead>\n",
       "  <tbody>\n",
       "    <tr>\n",
       "      <th>15013</th>\n",
       "      <td>TV Anime Idolm@ster: Cinderella Girls G4U! Pac...</td>\n",
       "      <td>PS3</td>\n",
       "      <td>2015.0</td>\n",
       "      <td>Adventure</td>\n",
       "      <td>0.0</td>\n",
       "      <td>0.0</td>\n",
       "      <td>0.02</td>\n",
       "      <td>0.0</td>\n",
       "      <td>NaN</td>\n",
       "      <td>NaN</td>\n",
       "      <td>NaN</td>\n",
       "    </tr>\n",
       "    <tr>\n",
       "      <th>15620</th>\n",
       "      <td>TV Anime Idolm@ster: Cinderella Girls G4U! Pac...</td>\n",
       "      <td>PS3</td>\n",
       "      <td>2016.0</td>\n",
       "      <td>Misc</td>\n",
       "      <td>0.0</td>\n",
       "      <td>0.0</td>\n",
       "      <td>0.02</td>\n",
       "      <td>0.0</td>\n",
       "      <td>NaN</td>\n",
       "      <td>NaN</td>\n",
       "      <td>NaN</td>\n",
       "    </tr>\n",
       "    <tr>\n",
       "      <th>15811</th>\n",
       "      <td>TV Anime Idolm@ster: Cinderella Girls G4U! Pac...</td>\n",
       "      <td>PS3</td>\n",
       "      <td>2015.0</td>\n",
       "      <td>Action</td>\n",
       "      <td>0.0</td>\n",
       "      <td>0.0</td>\n",
       "      <td>0.02</td>\n",
       "      <td>0.0</td>\n",
       "      <td>NaN</td>\n",
       "      <td>NaN</td>\n",
       "      <td>NaN</td>\n",
       "    </tr>\n",
       "    <tr>\n",
       "      <th>15836</th>\n",
       "      <td>TV Anime Idolm@ster: Cinderella Girls G4U! Pac...</td>\n",
       "      <td>PS3</td>\n",
       "      <td>2015.0</td>\n",
       "      <td>Action</td>\n",
       "      <td>0.0</td>\n",
       "      <td>0.0</td>\n",
       "      <td>0.02</td>\n",
       "      <td>0.0</td>\n",
       "      <td>NaN</td>\n",
       "      <td>NaN</td>\n",
       "      <td>NaN</td>\n",
       "    </tr>\n",
       "  </tbody>\n",
       "</table>\n",
       "</div>"
      ],
      "text/plain": [
       "                                                    name platform  \\\n",
       "15013  TV Anime Idolm@ster: Cinderella Girls G4U! Pac...      PS3   \n",
       "15620  TV Anime Idolm@ster: Cinderella Girls G4U! Pac...      PS3   \n",
       "15811  TV Anime Idolm@ster: Cinderella Girls G4U! Pac...      PS3   \n",
       "15836  TV Anime Idolm@ster: Cinderella Girls G4U! Pac...      PS3   \n",
       "\n",
       "       year_of_release      genre  na_sales  eu_sales  jp_sales  other_sales  \\\n",
       "15013           2015.0  Adventure       0.0       0.0      0.02          0.0   \n",
       "15620           2016.0       Misc       0.0       0.0      0.02          0.0   \n",
       "15811           2015.0     Action       0.0       0.0      0.02          0.0   \n",
       "15836           2015.0     Action       0.0       0.0      0.02          0.0   \n",
       "\n",
       "       critic_score user_score rating  \n",
       "15013           NaN        NaN    NaN  \n",
       "15620           NaN        NaN    NaN  \n",
       "15811           NaN        NaN    NaN  \n",
       "15836           NaN        NaN    NaN  "
      ]
     },
     "metadata": {},
     "output_type": "display_data"
    }
   ],
   "source": [
    "#проверим возможные опечатки в названиях игр\n",
    "name_list_lower = games_df['name'].str.lower().unique().tolist()\n",
    "\n",
    "for i in name_list_lower:\n",
    "\n",
    "    name_list_lower.remove(i)\n",
    "    compare = difflib.get_close_matches(i, name_list_lower, cutoff=.98)\n",
    "    if len(compare) != 0:\n",
    "        df = (\n",
    "            games_df[((games_df['name'].str.lower().isin(compare)) &\n",
    "            (games_df['platform'].isin(games_df[games_df['name'].str.lower() == i]['platform'])))]\n",
    "        )\n",
    "        if len(df) !=0:\n",
    "            \n",
    "            df = (\n",
    "            games_df[((games_df['name'].str.lower().isin(compare)) &\n",
    "            (games_df['platform'].isin(games_df[games_df['name'].str.lower() == i]['platform'])))\n",
    "                    | (games_df['name'].str.lower() == i)]\n",
    "            )\n",
    "            print(i,compare)\n",
    "            display(df)\n",
    "        \n",
    "\n",
    "\n",
    "    "
   ]
  },
  {
   "cell_type": "markdown",
   "id": "4decceec",
   "metadata": {},
   "source": [
    "Опечаток с коэффициентом 0.98 не обнаружено"
   ]
  },
  {
   "cell_type": "markdown",
   "id": "09a16c05",
   "metadata": {},
   "source": [
    "#### Рассмотрим незаполненные годы выхода игр"
   ]
  },
  {
   "cell_type": "code",
   "execution_count": 13,
   "id": "bc70eeee",
   "metadata": {},
   "outputs": [
    {
     "data": {
      "text/html": [
       "<div>\n",
       "<style scoped>\n",
       "    .dataframe tbody tr th:only-of-type {\n",
       "        vertical-align: middle;\n",
       "    }\n",
       "\n",
       "    .dataframe tbody tr th {\n",
       "        vertical-align: top;\n",
       "    }\n",
       "\n",
       "    .dataframe thead th {\n",
       "        text-align: right;\n",
       "    }\n",
       "</style>\n",
       "<table border=\"1\" class=\"dataframe\">\n",
       "  <thead>\n",
       "    <tr style=\"text-align: right;\">\n",
       "      <th></th>\n",
       "      <th>name</th>\n",
       "      <th>platform</th>\n",
       "      <th>year_of_release</th>\n",
       "      <th>genre</th>\n",
       "      <th>na_sales</th>\n",
       "      <th>eu_sales</th>\n",
       "      <th>jp_sales</th>\n",
       "      <th>other_sales</th>\n",
       "      <th>critic_score</th>\n",
       "      <th>user_score</th>\n",
       "      <th>rating</th>\n",
       "    </tr>\n",
       "  </thead>\n",
       "  <tbody>\n",
       "    <tr>\n",
       "      <th>183</th>\n",
       "      <td>Madden NFL 2004</td>\n",
       "      <td>PS2</td>\n",
       "      <td>NaN</td>\n",
       "      <td>Sports</td>\n",
       "      <td>4.26</td>\n",
       "      <td>0.26</td>\n",
       "      <td>0.01</td>\n",
       "      <td>0.71</td>\n",
       "      <td>94.0</td>\n",
       "      <td>8.5</td>\n",
       "      <td>E</td>\n",
       "    </tr>\n",
       "    <tr>\n",
       "      <th>377</th>\n",
       "      <td>FIFA Soccer 2004</td>\n",
       "      <td>PS2</td>\n",
       "      <td>NaN</td>\n",
       "      <td>Sports</td>\n",
       "      <td>0.59</td>\n",
       "      <td>2.36</td>\n",
       "      <td>0.04</td>\n",
       "      <td>0.51</td>\n",
       "      <td>84.0</td>\n",
       "      <td>6.4</td>\n",
       "      <td>E</td>\n",
       "    </tr>\n",
       "    <tr>\n",
       "      <th>456</th>\n",
       "      <td>LEGO Batman: The Videogame</td>\n",
       "      <td>Wii</td>\n",
       "      <td>NaN</td>\n",
       "      <td>Action</td>\n",
       "      <td>1.80</td>\n",
       "      <td>0.97</td>\n",
       "      <td>0.00</td>\n",
       "      <td>0.29</td>\n",
       "      <td>74.0</td>\n",
       "      <td>7.9</td>\n",
       "      <td>E10+</td>\n",
       "    </tr>\n",
       "    <tr>\n",
       "      <th>475</th>\n",
       "      <td>wwe Smackdown vs. Raw 2006</td>\n",
       "      <td>PS2</td>\n",
       "      <td>NaN</td>\n",
       "      <td>Fighting</td>\n",
       "      <td>1.57</td>\n",
       "      <td>1.02</td>\n",
       "      <td>0.00</td>\n",
       "      <td>0.41</td>\n",
       "      <td>NaN</td>\n",
       "      <td>NaN</td>\n",
       "      <td>NaN</td>\n",
       "    </tr>\n",
       "    <tr>\n",
       "      <th>609</th>\n",
       "      <td>Space Invaders</td>\n",
       "      <td>2600</td>\n",
       "      <td>NaN</td>\n",
       "      <td>Shooter</td>\n",
       "      <td>2.36</td>\n",
       "      <td>0.14</td>\n",
       "      <td>0.00</td>\n",
       "      <td>0.03</td>\n",
       "      <td>NaN</td>\n",
       "      <td>NaN</td>\n",
       "      <td>NaN</td>\n",
       "    </tr>\n",
       "    <tr>\n",
       "      <th>...</th>\n",
       "      <td>...</td>\n",
       "      <td>...</td>\n",
       "      <td>...</td>\n",
       "      <td>...</td>\n",
       "      <td>...</td>\n",
       "      <td>...</td>\n",
       "      <td>...</td>\n",
       "      <td>...</td>\n",
       "      <td>...</td>\n",
       "      <td>...</td>\n",
       "      <td>...</td>\n",
       "    </tr>\n",
       "    <tr>\n",
       "      <th>16373</th>\n",
       "      <td>PDC World Championship Darts 2008</td>\n",
       "      <td>PSP</td>\n",
       "      <td>NaN</td>\n",
       "      <td>Sports</td>\n",
       "      <td>0.01</td>\n",
       "      <td>0.00</td>\n",
       "      <td>0.00</td>\n",
       "      <td>0.00</td>\n",
       "      <td>43.0</td>\n",
       "      <td>tbd</td>\n",
       "      <td>E10+</td>\n",
       "    </tr>\n",
       "    <tr>\n",
       "      <th>16405</th>\n",
       "      <td>Freaky Flyers</td>\n",
       "      <td>GC</td>\n",
       "      <td>NaN</td>\n",
       "      <td>Racing</td>\n",
       "      <td>0.01</td>\n",
       "      <td>0.00</td>\n",
       "      <td>0.00</td>\n",
       "      <td>0.00</td>\n",
       "      <td>69.0</td>\n",
       "      <td>6.5</td>\n",
       "      <td>T</td>\n",
       "    </tr>\n",
       "    <tr>\n",
       "      <th>16448</th>\n",
       "      <td>Inversion</td>\n",
       "      <td>PC</td>\n",
       "      <td>NaN</td>\n",
       "      <td>Shooter</td>\n",
       "      <td>0.01</td>\n",
       "      <td>0.00</td>\n",
       "      <td>0.00</td>\n",
       "      <td>0.00</td>\n",
       "      <td>59.0</td>\n",
       "      <td>6.7</td>\n",
       "      <td>M</td>\n",
       "    </tr>\n",
       "    <tr>\n",
       "      <th>16458</th>\n",
       "      <td>Hakuouki: Shinsengumi Kitan</td>\n",
       "      <td>PS3</td>\n",
       "      <td>NaN</td>\n",
       "      <td>Adventure</td>\n",
       "      <td>0.01</td>\n",
       "      <td>0.00</td>\n",
       "      <td>0.00</td>\n",
       "      <td>0.00</td>\n",
       "      <td>NaN</td>\n",
       "      <td>NaN</td>\n",
       "      <td>NaN</td>\n",
       "    </tr>\n",
       "    <tr>\n",
       "      <th>16522</th>\n",
       "      <td>Virtua Quest</td>\n",
       "      <td>GC</td>\n",
       "      <td>NaN</td>\n",
       "      <td>Role-Playing</td>\n",
       "      <td>0.01</td>\n",
       "      <td>0.00</td>\n",
       "      <td>0.00</td>\n",
       "      <td>0.00</td>\n",
       "      <td>55.0</td>\n",
       "      <td>5.5</td>\n",
       "      <td>T</td>\n",
       "    </tr>\n",
       "  </tbody>\n",
       "</table>\n",
       "<p>269 rows × 11 columns</p>\n",
       "</div>"
      ],
      "text/plain": [
       "                                    name platform  year_of_release  \\\n",
       "183                      Madden NFL 2004      PS2              NaN   \n",
       "377                     FIFA Soccer 2004      PS2              NaN   \n",
       "456           LEGO Batman: The Videogame      Wii              NaN   \n",
       "475           wwe Smackdown vs. Raw 2006      PS2              NaN   \n",
       "609                       Space Invaders     2600              NaN   \n",
       "...                                  ...      ...              ...   \n",
       "16373  PDC World Championship Darts 2008      PSP              NaN   \n",
       "16405                      Freaky Flyers       GC              NaN   \n",
       "16448                          Inversion       PC              NaN   \n",
       "16458        Hakuouki: Shinsengumi Kitan      PS3              NaN   \n",
       "16522                       Virtua Quest       GC              NaN   \n",
       "\n",
       "              genre  na_sales  eu_sales  jp_sales  other_sales  critic_score  \\\n",
       "183          Sports      4.26      0.26      0.01         0.71          94.0   \n",
       "377          Sports      0.59      2.36      0.04         0.51          84.0   \n",
       "456          Action      1.80      0.97      0.00         0.29          74.0   \n",
       "475        Fighting      1.57      1.02      0.00         0.41           NaN   \n",
       "609         Shooter      2.36      0.14      0.00         0.03           NaN   \n",
       "...             ...       ...       ...       ...          ...           ...   \n",
       "16373        Sports      0.01      0.00      0.00         0.00          43.0   \n",
       "16405        Racing      0.01      0.00      0.00         0.00          69.0   \n",
       "16448       Shooter      0.01      0.00      0.00         0.00          59.0   \n",
       "16458     Adventure      0.01      0.00      0.00         0.00           NaN   \n",
       "16522  Role-Playing      0.01      0.00      0.00         0.00          55.0   \n",
       "\n",
       "      user_score rating  \n",
       "183          8.5      E  \n",
       "377          6.4      E  \n",
       "456          7.9   E10+  \n",
       "475          NaN    NaN  \n",
       "609          NaN    NaN  \n",
       "...          ...    ...  \n",
       "16373        tbd   E10+  \n",
       "16405        6.5      T  \n",
       "16448        6.7      M  \n",
       "16458        NaN    NaN  \n",
       "16522        5.5      T  \n",
       "\n",
       "[269 rows x 11 columns]"
      ]
     },
     "execution_count": 13,
     "metadata": {},
     "output_type": "execute_result"
    }
   ],
   "source": [
    "games_df[games_df['year_of_release'].isna()]"
   ]
  },
  {
   "cell_type": "code",
   "execution_count": 14,
   "id": "5c89066c",
   "metadata": {},
   "outputs": [
    {
     "data": {
      "text/plain": [
       "252"
      ]
     },
     "execution_count": 14,
     "metadata": {},
     "output_type": "execute_result"
    }
   ],
   "source": [
    "# Если в названии игры указан год, укажем этот год в качестве даты выхода\n",
    "year_of_release_list = pd.Series(games_df['year_of_release'].unique())\n",
    "year_of_release_set = set(str(int(i)) for i in year_of_release_list[~ year_of_release_list.isna()])\n",
    "\n",
    "for i in year_of_release_set:\n",
    "    games_df.loc[(games_df['name'].str.contains(i)) & (games_df['year_of_release'].isna()) , ['year_of_release']] = int(i)\n",
    "    \n",
    "games_df['year_of_release'].isna().sum()"
   ]
  },
  {
   "cell_type": "code",
   "execution_count": 15,
   "id": "de137d4d",
   "metadata": {},
   "outputs": [
    {
     "data": {
      "text/plain": [
       "139"
      ]
     },
     "execution_count": 15,
     "metadata": {},
     "output_type": "execute_result"
    }
   ],
   "source": [
    "#Заполним пропущенные значения медианными значениями выхода на других платформах\n",
    "games_df['year_of_release'].fillna(games_df.groupby('name')['year_of_release'].transform('median'), inplace = True)\n",
    "games_df['year_of_release'].isna().sum()"
   ]
  },
  {
   "cell_type": "markdown",
   "id": "e7c7b5f5",
   "metadata": {},
   "source": [
    "Удалим оставшиеся пропуски"
   ]
  },
  {
   "cell_type": "code",
   "execution_count": 19,
   "id": "8eaa05f5",
   "metadata": {},
   "outputs": [
    {
     "data": {
      "text/plain": [
       "0"
      ]
     },
     "execution_count": 19,
     "metadata": {},
     "output_type": "execute_result"
    }
   ],
   "source": [
    "games_df.dropna(subset=['year_of_release'],inplace=True)\n",
    "games_df['year_of_release'].isna().sum()\n"
   ]
  },
  {
   "cell_type": "code",
   "execution_count": 20,
   "id": "a230b3c0",
   "metadata": {},
   "outputs": [],
   "source": [
    "#Преобразуем тип данных года выпуска в int\n",
    "games_df['year_of_release'] = games_df['year_of_release'].astype('int')"
   ]
  },
  {
   "cell_type": "code",
   "execution_count": 21,
   "id": "f89b0467",
   "metadata": {
    "scrolled": true
   },
   "outputs": [
    {
     "name": "stdout",
     "output_type": "stream",
     "text": [
      "<class 'pandas.core.frame.DataFrame'>\n",
      "Int64Index: 16574 entries, 0 to 16714\n",
      "Data columns (total 11 columns):\n",
      " #   Column           Non-Null Count  Dtype  \n",
      "---  ------           --------------  -----  \n",
      " 0   name             16574 non-null  object \n",
      " 1   platform         16574 non-null  object \n",
      " 2   year_of_release  16574 non-null  int64  \n",
      " 3   genre            16574 non-null  object \n",
      " 4   na_sales         16574 non-null  float64\n",
      " 5   eu_sales         16574 non-null  float64\n",
      " 6   jp_sales         16574 non-null  float64\n",
      " 7   other_sales      16574 non-null  float64\n",
      " 8   critic_score     8079 non-null   float64\n",
      " 9   user_score       9938 non-null   object \n",
      " 10  rating           9871 non-null   object \n",
      "dtypes: float64(5), int64(1), object(5)\n",
      "memory usage: 1.5+ MB\n"
     ]
    }
   ],
   "source": [
    "games_df.info()"
   ]
  },
  {
   "cell_type": "markdown",
   "id": "22bbeabf",
   "metadata": {},
   "source": [
    "####  Рассмотрим оценки игр"
   ]
  },
  {
   "cell_type": "markdown",
   "id": "e69adb7b",
   "metadata": {},
   "source": [
    "Рейтинг от пользователей"
   ]
  },
  {
   "cell_type": "code",
   "execution_count": 22,
   "id": "19f4c07b",
   "metadata": {},
   "outputs": [
    {
     "data": {
      "text/html": [
       "<div>\n",
       "<style scoped>\n",
       "    .dataframe tbody tr th:only-of-type {\n",
       "        vertical-align: middle;\n",
       "    }\n",
       "\n",
       "    .dataframe tbody tr th {\n",
       "        vertical-align: top;\n",
       "    }\n",
       "\n",
       "    .dataframe thead th {\n",
       "        text-align: right;\n",
       "    }\n",
       "</style>\n",
       "<table border=\"1\" class=\"dataframe\">\n",
       "  <thead>\n",
       "    <tr style=\"text-align: right;\">\n",
       "      <th></th>\n",
       "      <th>name</th>\n",
       "      <th>platform</th>\n",
       "      <th>year_of_release</th>\n",
       "      <th>genre</th>\n",
       "      <th>na_sales</th>\n",
       "      <th>eu_sales</th>\n",
       "      <th>jp_sales</th>\n",
       "      <th>other_sales</th>\n",
       "      <th>critic_score</th>\n",
       "      <th>user_score</th>\n",
       "      <th>rating</th>\n",
       "    </tr>\n",
       "  </thead>\n",
       "  <tbody>\n",
       "    <tr>\n",
       "      <th>1</th>\n",
       "      <td>Super Mario Bros.</td>\n",
       "      <td>NES</td>\n",
       "      <td>1985</td>\n",
       "      <td>Platform</td>\n",
       "      <td>29.08</td>\n",
       "      <td>3.58</td>\n",
       "      <td>6.81</td>\n",
       "      <td>0.77</td>\n",
       "      <td>NaN</td>\n",
       "      <td>NaN</td>\n",
       "      <td>NaN</td>\n",
       "    </tr>\n",
       "    <tr>\n",
       "      <th>4</th>\n",
       "      <td>Pokemon Red/Pokemon Blue</td>\n",
       "      <td>GB</td>\n",
       "      <td>1996</td>\n",
       "      <td>Role-Playing</td>\n",
       "      <td>11.27</td>\n",
       "      <td>8.89</td>\n",
       "      <td>10.22</td>\n",
       "      <td>1.00</td>\n",
       "      <td>NaN</td>\n",
       "      <td>NaN</td>\n",
       "      <td>NaN</td>\n",
       "    </tr>\n",
       "    <tr>\n",
       "      <th>5</th>\n",
       "      <td>Tetris</td>\n",
       "      <td>GB</td>\n",
       "      <td>1989</td>\n",
       "      <td>Puzzle</td>\n",
       "      <td>23.20</td>\n",
       "      <td>2.26</td>\n",
       "      <td>4.22</td>\n",
       "      <td>0.58</td>\n",
       "      <td>NaN</td>\n",
       "      <td>NaN</td>\n",
       "      <td>NaN</td>\n",
       "    </tr>\n",
       "    <tr>\n",
       "      <th>9</th>\n",
       "      <td>Duck Hunt</td>\n",
       "      <td>NES</td>\n",
       "      <td>1984</td>\n",
       "      <td>Shooter</td>\n",
       "      <td>26.93</td>\n",
       "      <td>0.63</td>\n",
       "      <td>0.28</td>\n",
       "      <td>0.47</td>\n",
       "      <td>NaN</td>\n",
       "      <td>NaN</td>\n",
       "      <td>NaN</td>\n",
       "    </tr>\n",
       "    <tr>\n",
       "      <th>10</th>\n",
       "      <td>Nintendogs</td>\n",
       "      <td>DS</td>\n",
       "      <td>2005</td>\n",
       "      <td>Simulation</td>\n",
       "      <td>9.05</td>\n",
       "      <td>10.95</td>\n",
       "      <td>1.93</td>\n",
       "      <td>2.74</td>\n",
       "      <td>NaN</td>\n",
       "      <td>NaN</td>\n",
       "      <td>NaN</td>\n",
       "    </tr>\n",
       "    <tr>\n",
       "      <th>...</th>\n",
       "      <td>...</td>\n",
       "      <td>...</td>\n",
       "      <td>...</td>\n",
       "      <td>...</td>\n",
       "      <td>...</td>\n",
       "      <td>...</td>\n",
       "      <td>...</td>\n",
       "      <td>...</td>\n",
       "      <td>...</td>\n",
       "      <td>...</td>\n",
       "      <td>...</td>\n",
       "    </tr>\n",
       "    <tr>\n",
       "      <th>16710</th>\n",
       "      <td>Samurai Warriors: Sanada Maru</td>\n",
       "      <td>PS3</td>\n",
       "      <td>2016</td>\n",
       "      <td>Action</td>\n",
       "      <td>0.00</td>\n",
       "      <td>0.00</td>\n",
       "      <td>0.01</td>\n",
       "      <td>0.00</td>\n",
       "      <td>NaN</td>\n",
       "      <td>NaN</td>\n",
       "      <td>NaN</td>\n",
       "    </tr>\n",
       "    <tr>\n",
       "      <th>16711</th>\n",
       "      <td>LMA Manager 2007</td>\n",
       "      <td>X360</td>\n",
       "      <td>2006</td>\n",
       "      <td>Sports</td>\n",
       "      <td>0.00</td>\n",
       "      <td>0.01</td>\n",
       "      <td>0.00</td>\n",
       "      <td>0.00</td>\n",
       "      <td>NaN</td>\n",
       "      <td>NaN</td>\n",
       "      <td>NaN</td>\n",
       "    </tr>\n",
       "    <tr>\n",
       "      <th>16712</th>\n",
       "      <td>Haitaka no Psychedelica</td>\n",
       "      <td>PSV</td>\n",
       "      <td>2016</td>\n",
       "      <td>Adventure</td>\n",
       "      <td>0.00</td>\n",
       "      <td>0.00</td>\n",
       "      <td>0.01</td>\n",
       "      <td>0.00</td>\n",
       "      <td>NaN</td>\n",
       "      <td>NaN</td>\n",
       "      <td>NaN</td>\n",
       "    </tr>\n",
       "    <tr>\n",
       "      <th>16713</th>\n",
       "      <td>Spirits &amp; Spells</td>\n",
       "      <td>GBA</td>\n",
       "      <td>2003</td>\n",
       "      <td>Platform</td>\n",
       "      <td>0.01</td>\n",
       "      <td>0.00</td>\n",
       "      <td>0.00</td>\n",
       "      <td>0.00</td>\n",
       "      <td>NaN</td>\n",
       "      <td>NaN</td>\n",
       "      <td>NaN</td>\n",
       "    </tr>\n",
       "    <tr>\n",
       "      <th>16714</th>\n",
       "      <td>Winning Post 8 2016</td>\n",
       "      <td>PSV</td>\n",
       "      <td>2016</td>\n",
       "      <td>Simulation</td>\n",
       "      <td>0.00</td>\n",
       "      <td>0.00</td>\n",
       "      <td>0.01</td>\n",
       "      <td>0.00</td>\n",
       "      <td>NaN</td>\n",
       "      <td>NaN</td>\n",
       "      <td>NaN</td>\n",
       "    </tr>\n",
       "  </tbody>\n",
       "</table>\n",
       "<p>6636 rows × 11 columns</p>\n",
       "</div>"
      ],
      "text/plain": [
       "                                name platform  year_of_release         genre  \\\n",
       "1                  Super Mario Bros.      NES             1985      Platform   \n",
       "4           Pokemon Red/Pokemon Blue       GB             1996  Role-Playing   \n",
       "5                             Tetris       GB             1989        Puzzle   \n",
       "9                          Duck Hunt      NES             1984       Shooter   \n",
       "10                        Nintendogs       DS             2005    Simulation   \n",
       "...                              ...      ...              ...           ...   \n",
       "16710  Samurai Warriors: Sanada Maru      PS3             2016        Action   \n",
       "16711               LMA Manager 2007     X360             2006        Sports   \n",
       "16712        Haitaka no Psychedelica      PSV             2016     Adventure   \n",
       "16713               Spirits & Spells      GBA             2003      Platform   \n",
       "16714            Winning Post 8 2016      PSV             2016    Simulation   \n",
       "\n",
       "       na_sales  eu_sales  jp_sales  other_sales  critic_score user_score  \\\n",
       "1         29.08      3.58      6.81         0.77           NaN        NaN   \n",
       "4         11.27      8.89     10.22         1.00           NaN        NaN   \n",
       "5         23.20      2.26      4.22         0.58           NaN        NaN   \n",
       "9         26.93      0.63      0.28         0.47           NaN        NaN   \n",
       "10         9.05     10.95      1.93         2.74           NaN        NaN   \n",
       "...         ...       ...       ...          ...           ...        ...   \n",
       "16710      0.00      0.00      0.01         0.00           NaN        NaN   \n",
       "16711      0.00      0.01      0.00         0.00           NaN        NaN   \n",
       "16712      0.00      0.00      0.01         0.00           NaN        NaN   \n",
       "16713      0.01      0.00      0.00         0.00           NaN        NaN   \n",
       "16714      0.00      0.00      0.01         0.00           NaN        NaN   \n",
       "\n",
       "      rating  \n",
       "1        NaN  \n",
       "4        NaN  \n",
       "5        NaN  \n",
       "9        NaN  \n",
       "10       NaN  \n",
       "...      ...  \n",
       "16710    NaN  \n",
       "16711    NaN  \n",
       "16712    NaN  \n",
       "16713    NaN  \n",
       "16714    NaN  \n",
       "\n",
       "[6636 rows x 11 columns]"
      ]
     },
     "execution_count": 22,
     "metadata": {},
     "output_type": "execute_result"
    }
   ],
   "source": [
    "games_df[games_df['user_score'].isna()]"
   ]
  },
  {
   "cell_type": "code",
   "execution_count": 23,
   "id": "209dbf4d",
   "metadata": {},
   "outputs": [
    {
     "data": {
      "text/plain": [
       "array(['8', nan, '8.3', '8.5', '6.6', '8.4', '8.6', '7.7', '6.3', '7.4',\n",
       "       '8.2', '9', '7.9', '8.1', '8.7', '7.1', '3.4', '5.3', '4.8', '3.2',\n",
       "       '8.9', '6.4', '7.8', '7.5', '2.6', '7.2', '9.2', '7', '7.3', '4.3',\n",
       "       '7.6', '5.7', '5', '9.1', '6.5', 'tbd', '8.8', '6.9', '9.4', '6.8',\n",
       "       '6.1', '6.7', '5.4', '4', '4.9', '4.5', '9.3', '6.2', '4.2', '6',\n",
       "       '3.7', '4.1', '5.8', '5.6', '5.5', '4.4', '4.6', '5.9', '3.9',\n",
       "       '3.1', '2.9', '5.2', '3.3', '4.7', '5.1', '3.5', '2.5', '1.9', '3',\n",
       "       '2.7', '2.2', '2', '9.5', '2.1', '3.6', '2.8', '1.8', '3.8', '0',\n",
       "       '1.6', '9.6', '2.4', '1.7', '1.1', '0.3', '1.5', '0.7', '1.2',\n",
       "       '2.3', '0.5', '1.3', '0.2', '0.6', '1.4', '0.9', '1', '9.7'],\n",
       "      dtype=object)"
      ]
     },
     "execution_count": 23,
     "metadata": {},
     "output_type": "execute_result"
    }
   ],
   "source": [
    "games_df['user_score'].unique()"
   ]
  },
  {
   "cell_type": "code",
   "execution_count": 24,
   "id": "185043b5",
   "metadata": {},
   "outputs": [
    {
     "data": {
      "text/html": [
       "<div>\n",
       "<style scoped>\n",
       "    .dataframe tbody tr th:only-of-type {\n",
       "        vertical-align: middle;\n",
       "    }\n",
       "\n",
       "    .dataframe tbody tr th {\n",
       "        vertical-align: top;\n",
       "    }\n",
       "\n",
       "    .dataframe thead th {\n",
       "        text-align: right;\n",
       "    }\n",
       "</style>\n",
       "<table border=\"1\" class=\"dataframe\">\n",
       "  <thead>\n",
       "    <tr style=\"text-align: right;\">\n",
       "      <th></th>\n",
       "      <th>name</th>\n",
       "      <th>platform</th>\n",
       "      <th>year_of_release</th>\n",
       "      <th>genre</th>\n",
       "      <th>na_sales</th>\n",
       "      <th>eu_sales</th>\n",
       "      <th>jp_sales</th>\n",
       "      <th>other_sales</th>\n",
       "      <th>critic_score</th>\n",
       "      <th>user_score</th>\n",
       "      <th>rating</th>\n",
       "    </tr>\n",
       "  </thead>\n",
       "  <tbody>\n",
       "    <tr>\n",
       "      <th>119</th>\n",
       "      <td>Zumba Fitness</td>\n",
       "      <td>Wii</td>\n",
       "      <td>2010</td>\n",
       "      <td>Sports</td>\n",
       "      <td>3.45</td>\n",
       "      <td>2.59</td>\n",
       "      <td>0.0</td>\n",
       "      <td>0.66</td>\n",
       "      <td>NaN</td>\n",
       "      <td>tbd</td>\n",
       "      <td>E</td>\n",
       "    </tr>\n",
       "    <tr>\n",
       "      <th>301</th>\n",
       "      <td>Namco Museum: 50th Anniversary</td>\n",
       "      <td>PS2</td>\n",
       "      <td>2005</td>\n",
       "      <td>Misc</td>\n",
       "      <td>2.08</td>\n",
       "      <td>1.35</td>\n",
       "      <td>0.0</td>\n",
       "      <td>0.54</td>\n",
       "      <td>61.0</td>\n",
       "      <td>tbd</td>\n",
       "      <td>E10+</td>\n",
       "    </tr>\n",
       "    <tr>\n",
       "      <th>520</th>\n",
       "      <td>Zumba Fitness 2</td>\n",
       "      <td>Wii</td>\n",
       "      <td>2011</td>\n",
       "      <td>Sports</td>\n",
       "      <td>1.51</td>\n",
       "      <td>1.03</td>\n",
       "      <td>0.0</td>\n",
       "      <td>0.27</td>\n",
       "      <td>NaN</td>\n",
       "      <td>tbd</td>\n",
       "      <td>T</td>\n",
       "    </tr>\n",
       "    <tr>\n",
       "      <th>645</th>\n",
       "      <td>uDraw Studio</td>\n",
       "      <td>Wii</td>\n",
       "      <td>2010</td>\n",
       "      <td>Misc</td>\n",
       "      <td>1.65</td>\n",
       "      <td>0.57</td>\n",
       "      <td>0.0</td>\n",
       "      <td>0.20</td>\n",
       "      <td>71.0</td>\n",
       "      <td>tbd</td>\n",
       "      <td>E</td>\n",
       "    </tr>\n",
       "    <tr>\n",
       "      <th>718</th>\n",
       "      <td>Just Dance Kids</td>\n",
       "      <td>Wii</td>\n",
       "      <td>2010</td>\n",
       "      <td>Misc</td>\n",
       "      <td>1.52</td>\n",
       "      <td>0.54</td>\n",
       "      <td>0.0</td>\n",
       "      <td>0.18</td>\n",
       "      <td>NaN</td>\n",
       "      <td>tbd</td>\n",
       "      <td>E</td>\n",
       "    </tr>\n",
       "    <tr>\n",
       "      <th>...</th>\n",
       "      <td>...</td>\n",
       "      <td>...</td>\n",
       "      <td>...</td>\n",
       "      <td>...</td>\n",
       "      <td>...</td>\n",
       "      <td>...</td>\n",
       "      <td>...</td>\n",
       "      <td>...</td>\n",
       "      <td>...</td>\n",
       "      <td>...</td>\n",
       "      <td>...</td>\n",
       "    </tr>\n",
       "    <tr>\n",
       "      <th>16695</th>\n",
       "      <td>Planet Monsters</td>\n",
       "      <td>GBA</td>\n",
       "      <td>2001</td>\n",
       "      <td>Action</td>\n",
       "      <td>0.01</td>\n",
       "      <td>0.00</td>\n",
       "      <td>0.0</td>\n",
       "      <td>0.00</td>\n",
       "      <td>67.0</td>\n",
       "      <td>tbd</td>\n",
       "      <td>E</td>\n",
       "    </tr>\n",
       "    <tr>\n",
       "      <th>16697</th>\n",
       "      <td>Bust-A-Move 3000</td>\n",
       "      <td>GC</td>\n",
       "      <td>2003</td>\n",
       "      <td>Puzzle</td>\n",
       "      <td>0.01</td>\n",
       "      <td>0.00</td>\n",
       "      <td>0.0</td>\n",
       "      <td>0.00</td>\n",
       "      <td>53.0</td>\n",
       "      <td>tbd</td>\n",
       "      <td>E</td>\n",
       "    </tr>\n",
       "    <tr>\n",
       "      <th>16698</th>\n",
       "      <td>Mega Brain Boost</td>\n",
       "      <td>DS</td>\n",
       "      <td>2008</td>\n",
       "      <td>Puzzle</td>\n",
       "      <td>0.01</td>\n",
       "      <td>0.00</td>\n",
       "      <td>0.0</td>\n",
       "      <td>0.00</td>\n",
       "      <td>48.0</td>\n",
       "      <td>tbd</td>\n",
       "      <td>E</td>\n",
       "    </tr>\n",
       "    <tr>\n",
       "      <th>16704</th>\n",
       "      <td>Plushees</td>\n",
       "      <td>DS</td>\n",
       "      <td>2008</td>\n",
       "      <td>Simulation</td>\n",
       "      <td>0.01</td>\n",
       "      <td>0.00</td>\n",
       "      <td>0.0</td>\n",
       "      <td>0.00</td>\n",
       "      <td>NaN</td>\n",
       "      <td>tbd</td>\n",
       "      <td>E</td>\n",
       "    </tr>\n",
       "    <tr>\n",
       "      <th>16706</th>\n",
       "      <td>Men in Black II: Alien Escape</td>\n",
       "      <td>GC</td>\n",
       "      <td>2003</td>\n",
       "      <td>Shooter</td>\n",
       "      <td>0.01</td>\n",
       "      <td>0.00</td>\n",
       "      <td>0.0</td>\n",
       "      <td>0.00</td>\n",
       "      <td>NaN</td>\n",
       "      <td>tbd</td>\n",
       "      <td>T</td>\n",
       "    </tr>\n",
       "  </tbody>\n",
       "</table>\n",
       "<p>2395 rows × 11 columns</p>\n",
       "</div>"
      ],
      "text/plain": [
       "                                 name platform  year_of_release       genre  \\\n",
       "119                     Zumba Fitness      Wii             2010      Sports   \n",
       "301    Namco Museum: 50th Anniversary      PS2             2005        Misc   \n",
       "520                   Zumba Fitness 2      Wii             2011      Sports   \n",
       "645                      uDraw Studio      Wii             2010        Misc   \n",
       "718                   Just Dance Kids      Wii             2010        Misc   \n",
       "...                               ...      ...              ...         ...   \n",
       "16695                 Planet Monsters      GBA             2001      Action   \n",
       "16697                Bust-A-Move 3000       GC             2003      Puzzle   \n",
       "16698                Mega Brain Boost       DS             2008      Puzzle   \n",
       "16704                        Plushees       DS             2008  Simulation   \n",
       "16706   Men in Black II: Alien Escape       GC             2003     Shooter   \n",
       "\n",
       "       na_sales  eu_sales  jp_sales  other_sales  critic_score user_score  \\\n",
       "119        3.45      2.59       0.0         0.66           NaN        tbd   \n",
       "301        2.08      1.35       0.0         0.54          61.0        tbd   \n",
       "520        1.51      1.03       0.0         0.27           NaN        tbd   \n",
       "645        1.65      0.57       0.0         0.20          71.0        tbd   \n",
       "718        1.52      0.54       0.0         0.18           NaN        tbd   \n",
       "...         ...       ...       ...          ...           ...        ...   \n",
       "16695      0.01      0.00       0.0         0.00          67.0        tbd   \n",
       "16697      0.01      0.00       0.0         0.00          53.0        tbd   \n",
       "16698      0.01      0.00       0.0         0.00          48.0        tbd   \n",
       "16704      0.01      0.00       0.0         0.00           NaN        tbd   \n",
       "16706      0.01      0.00       0.0         0.00           NaN        tbd   \n",
       "\n",
       "      rating  \n",
       "119        E  \n",
       "301     E10+  \n",
       "520        T  \n",
       "645        E  \n",
       "718        E  \n",
       "...      ...  \n",
       "16695      E  \n",
       "16697      E  \n",
       "16698      E  \n",
       "16704      E  \n",
       "16706      T  \n",
       "\n",
       "[2395 rows x 11 columns]"
      ]
     },
     "execution_count": 24,
     "metadata": {},
     "output_type": "execute_result"
    }
   ],
   "source": [
    "#имеется значение tbd, скорее всего означает to be determined (будет определен позднее)\n",
    "games_df[games_df['user_score'] == 'tbd']"
   ]
  },
  {
   "cell_type": "code",
   "execution_count": 25,
   "id": "fa81df16",
   "metadata": {
    "scrolled": true
   },
   "outputs": [
    {
     "name": "stdout",
     "output_type": "stream",
     "text": [
      "<class 'pandas.core.frame.DataFrame'>\n",
      "Int64Index: 16574 entries, 0 to 16714\n",
      "Data columns (total 11 columns):\n",
      " #   Column           Non-Null Count  Dtype  \n",
      "---  ------           --------------  -----  \n",
      " 0   name             16574 non-null  object \n",
      " 1   platform         16574 non-null  object \n",
      " 2   year_of_release  16574 non-null  int64  \n",
      " 3   genre            16574 non-null  object \n",
      " 4   na_sales         16574 non-null  float64\n",
      " 5   eu_sales         16574 non-null  float64\n",
      " 6   jp_sales         16574 non-null  float64\n",
      " 7   other_sales      16574 non-null  float64\n",
      " 8   critic_score     8079 non-null   float64\n",
      " 9   user_score       7543 non-null   object \n",
      " 10  rating           9871 non-null   object \n",
      "dtypes: float64(5), int64(1), object(5)\n",
      "memory usage: 1.5+ MB\n"
     ]
    }
   ],
   "source": [
    "#заменим его на NaN\n",
    "games_df.loc[games_df['user_score'] == 'tbd','user_score'] = np.nan\n",
    "games_df.info()"
   ]
  },
  {
   "cell_type": "code",
   "execution_count": 26,
   "id": "9a3973d9",
   "metadata": {
    "scrolled": true
   },
   "outputs": [
    {
     "data": {
      "text/plain": [
       "array([76., nan, 82., 80., 89., 58., 87., 91., 61., 97., 95., 77., 88.,\n",
       "       83., 94., 93., 85., 86., 98., 96., 90., 84., 73., 74., 78., 92.,\n",
       "       71., 72., 68., 62., 49., 67., 81., 66., 56., 79., 70., 59., 64.,\n",
       "       75., 60., 63., 69., 50., 25., 42., 44., 55., 48., 57., 29., 47.,\n",
       "       65., 54., 20., 53., 37., 38., 33., 52., 30., 32., 43., 45., 51.,\n",
       "       40., 46., 39., 34., 35., 41., 36., 28., 31., 27., 26., 19., 23.,\n",
       "       24., 21., 17., 13.])"
      ]
     },
     "execution_count": 26,
     "metadata": {},
     "output_type": "execute_result"
    }
   ],
   "source": [
    "games_df['critic_score'].unique()"
   ]
  },
  {
   "cell_type": "code",
   "execution_count": 27,
   "id": "e56ba69e",
   "metadata": {},
   "outputs": [
    {
     "name": "stdout",
     "output_type": "stream",
     "text": [
      "9031\n",
      "8495\n"
     ]
    }
   ],
   "source": [
    "print(games_df['user_score'].isna().sum())\n",
    "print(games_df['critic_score'].isna().sum())"
   ]
  },
  {
   "cell_type": "code",
   "execution_count": 38,
   "id": "80b7a37a",
   "metadata": {},
   "outputs": [],
   "source": [
    "#Исправим типы user_score\n",
    "games_df['user_score'] = games_df['user_score'].astype(float)"
   ]
  },
  {
   "cell_type": "code",
   "execution_count": 39,
   "id": "769ceb7f",
   "metadata": {},
   "outputs": [
    {
     "name": "stdout",
     "output_type": "stream",
     "text": [
      "<class 'pandas.core.frame.DataFrame'>\n",
      "Int64Index: 16574 entries, 0 to 16714\n",
      "Data columns (total 11 columns):\n",
      " #   Column           Non-Null Count  Dtype  \n",
      "---  ------           --------------  -----  \n",
      " 0   name             16574 non-null  object \n",
      " 1   platform         16574 non-null  object \n",
      " 2   year_of_release  16574 non-null  int64  \n",
      " 3   genre            16574 non-null  object \n",
      " 4   na_sales         16574 non-null  float64\n",
      " 5   eu_sales         16574 non-null  float64\n",
      " 6   jp_sales         16574 non-null  float64\n",
      " 7   other_sales      16574 non-null  float64\n",
      " 8   critic_score     8079 non-null   float64\n",
      " 9   user_score       7543 non-null   float64\n",
      " 10  rating           9871 non-null   object \n",
      "dtypes: float64(6), int64(1), object(4)\n",
      "memory usage: 1.5+ MB\n"
     ]
    }
   ],
   "source": [
    "games_df.info()"
   ]
  },
  {
   "cell_type": "markdown",
   "id": "525c4c1f",
   "metadata": {},
   "source": [
    "#### Рассмотрим возрастной рейтинг игр"
   ]
  },
  {
   "cell_type": "code",
   "execution_count": 40,
   "id": "c204690d",
   "metadata": {
    "scrolled": true
   },
   "outputs": [
    {
     "data": {
      "text/plain": [
       "array(['E', nan, 'M', 'T', 'E10+', 'K-A', 'AO', 'EC', 'RP'], dtype=object)"
      ]
     },
     "execution_count": 40,
     "metadata": {},
     "output_type": "execute_result"
    }
   ],
   "source": [
    "games_df['rating'].unique()"
   ]
  },
  {
   "cell_type": "code",
   "execution_count": 41,
   "id": "4c3e15ad",
   "metadata": {},
   "outputs": [
    {
     "data": {
      "text/plain": [
       "0"
      ]
     },
     "execution_count": 41,
     "metadata": {},
     "output_type": "execute_result"
    }
   ],
   "source": [
    "#Заменим все назполненные значения на RP - категория еще не присвоена, рейтинг ожидается\n",
    "games_df['rating'].fillna('RP', inplace=True)\n",
    "games_df['rating'].isna().sum()"
   ]
  },
  {
   "cell_type": "code",
   "execution_count": 42,
   "id": "21ea81d0",
   "metadata": {},
   "outputs": [
    {
     "data": {
      "text/plain": [
       "RP      6705\n",
       "E       3961\n",
       "T       2930\n",
       "M       1554\n",
       "E10+    1412\n",
       "EC         8\n",
       "K-A        3\n",
       "AO         1\n",
       "Name: rating, dtype: int64"
      ]
     },
     "execution_count": 42,
     "metadata": {},
     "output_type": "execute_result"
    }
   ],
   "source": [
    "games_df['rating'].value_counts()"
   ]
  },
  {
   "cell_type": "markdown",
   "id": "9b4302b8",
   "metadata": {},
   "source": [
    "Удалим рейтинги имеющиеся у менее 10 игр."
   ]
  },
  {
   "cell_type": "code",
   "execution_count": 43,
   "id": "2fa971b3",
   "metadata": {},
   "outputs": [],
   "source": [
    "games_df = games_df[~games_df['rating'].isin(['EC','K-A','AO'])]"
   ]
  },
  {
   "cell_type": "markdown",
   "id": "8e3b5a52",
   "metadata": {},
   "source": [
    "#### Посчитаем суммарные продажи игр"
   ]
  },
  {
   "cell_type": "code",
   "execution_count": 45,
   "id": "43a75fba",
   "metadata": {},
   "outputs": [
    {
     "data": {
      "image/png": "[encoded data removed]",
      "text/plain": [
       "<Figure size 1440x720 with 4 Axes>"
      ]
     },
     "metadata": {
      "needs_background": "light"
     },
     "output_type": "display_data"
    }
   ],
   "source": [
    "games_df[['na_sales','eu_sales','jp_sales','other_sales']].plot(kind='box',figsize=(20,10),subplots=True,rot = 90);"
   ]
  },
  {
   "cell_type": "markdown",
   "id": "835fb0d8",
   "metadata": {},
   "source": [
    "Немногие игры становятся популярными, из-за чего их количество проданных экземпляров выглядит аномальным."
   ]
  },
  {
   "cell_type": "code",
   "execution_count": 46,
   "id": "cdffdc82",
   "metadata": {},
   "outputs": [],
   "source": [
    "#Посчитаем суммарные продажи во всех регионах \n",
    "games_df['all_sales'] = games_df[['na_sales','eu_sales','jp_sales','other_sales']].sum(axis=1)"
   ]
  },
  {
   "cell_type": "code",
   "execution_count": 47,
   "id": "e03385ac",
   "metadata": {},
   "outputs": [
    {
     "data": {
      "text/plain": [
       "0.9908465450194436"
      ]
     },
     "execution_count": 47,
     "metadata": {},
     "output_type": "execute_result"
    }
   ],
   "source": [
    "#Количество удаленных строк\n",
    "games_df.shape[0]/games_df_shape_old[0]"
   ]
  },
  {
   "cell_type": "markdown",
   "id": "bdf72126",
   "metadata": {},
   "source": [
    "Удалено менее 1 процента."
   ]
  },
  {
   "cell_type": "markdown",
   "id": "3cb0ede5",
   "metadata": {},
   "source": [
    "#### Вывод по предобработке."
   ]
  },
  {
   "cell_type": "markdown",
   "id": "1e1d8910",
   "metadata": {},
   "source": [
    "Определены столбцы с пропущенными значениями, и несоответствием типа данных.  \n",
    "При предобработке данных заполнены пропущенные данные:  \n",
    "- год выпуска;      \n",
    "- рейтинг от организации ESRB.\n",
    "\n",
    "Удалены строки с пропущенными значениями названия игры, года выхода, а также имеющие не распространенные возрастные рейтинги.   \n",
    "\n",
    "Исправлены типы:  \n",
    "- год выпуска;  \n",
    "- оценка пользователей.  \n",
    "Добавлен столбец с суммарной продажей игр.  \n"
   ]
  },
  {
   "cell_type": "markdown",
   "id": "7092e0bd",
   "metadata": {},
   "source": [
    "### Проведем исследовательский анализ данных"
   ]
  },
  {
   "cell_type": "code",
   "execution_count": 49,
   "id": "3021b450",
   "metadata": {
    "scrolled": false
   },
   "outputs": [
    {
     "data": {
      "image/png": "[encoded data removed]",
      "text/plain": [
       "<Figure size 432x288 with 1 Axes>"
      ]
     },
     "metadata": {
      "needs_background": "light"
     },
     "output_type": "display_data"
    }
   ],
   "source": [
    "#Построим график выпуска игр за год\n",
    "games_df.groupby('year_of_release')['name'].count().plot(kind='bar',rot = 90,\n",
    "                                                         title = 'Количество выпущенных игр за год', xlabel='Год', \n",
    "                                                         ylabel='Кол-во',grid=True);\n"
   ]
  },
  {
   "cell_type": "markdown",
   "id": "5c39dec3",
   "metadata": {},
   "source": [
    "Начиная с 2001 года выпускается больше 400 игр."
   ]
  },
  {
   "cell_type": "markdown",
   "id": "1e59dbc7",
   "metadata": {},
   "source": [
    "Для дальнейшего анализа отсечем годы, когда выпускалось меньше 100 игр."
   ]
  },
  {
   "cell_type": "code",
   "execution_count": 50,
   "id": "86c8777f",
   "metadata": {},
   "outputs": [],
   "source": [
    "games_df = games_df[games_df['year_of_release']>=1994]"
   ]
  },
  {
   "cell_type": "code",
   "execution_count": 51,
   "id": "e0004e68",
   "metadata": {},
   "outputs": [
    {
     "data": {
      "image/png": "[encoded data removed]",
      "text/plain": [
       "<Figure size 432x288 with 1 Axes>"
      ]
     },
     "metadata": {
      "needs_background": "light"
     },
     "output_type": "display_data"
    }
   ],
   "source": [
    "games_df.groupby('year_of_release')['name'].count().plot(kind='bar',rot = 90,\n",
    "                                                         title = 'Количество выпущенных игр за год', xlabel='Год', \n",
    "                                                         ylabel='Кол-во',grid=True);"
   ]
  },
  {
   "cell_type": "code",
   "execution_count": 52,
   "id": "d22c1c54",
   "metadata": {},
   "outputs": [
    {
     "data": {
      "image/png": "[encoded data removed]",
      "text/plain": [
       "<Figure size 1440x360 with 1 Axes>"
      ]
     },
     "metadata": {
      "needs_background": "light"
     },
     "output_type": "display_data"
    }
   ],
   "source": [
    "#Посморим как менялись продаж для 10ти наиболее продаваемых платформ\n",
    "df1 = games_df.groupby(['platform'])['all_sales'].sum().sort_values(ascending=False)\n",
    "df1 = df1[:10]\n",
    "df2 = games_df[games_df['platform'].isin(df1.index.tolist())].groupby(['year_of_release','platform'])['all_sales'].sum()\n",
    "df2.unstack().plot(figsize = (20,5),grid=True,rot=90,xlabel='Год',\n",
    "                   ylabel='Суммы продаж млн.',title='График продаж, для разных платформ');"
   ]
  },
  {
   "cell_type": "markdown",
   "id": "50c75b56",
   "metadata": {},
   "source": [
    " Срок жизни одной платформы 5-7 лет (исключение PC, но его ежегодные продажи не сравнимы с выделлеными платформами).  \n",
    " Для составления прогноза на 2017 год возьмем данные за половину срока жизни типичной платформы 2013-2016 год "
   ]
  },
  {
   "cell_type": "code",
   "execution_count": 53,
   "id": "d806e9e9",
   "metadata": {},
   "outputs": [],
   "source": [
    "games_df_2013_2016 = games_df[games_df['year_of_release']>=2013]"
   ]
  },
  {
   "cell_type": "code",
   "execution_count": 54,
   "id": "12f9ab3d",
   "metadata": {},
   "outputs": [
    {
     "data": {
      "image/png": "[encoded data removed]",
      "text/plain": [
       "<Figure size 720x720 with 1 Axes>"
      ]
     },
     "metadata": {
      "needs_background": "light"
     },
     "output_type": "display_data"
    }
   ],
   "source": [
    "games_df_2013_2016.groupby(['year_of_release','platform'])['all_sales'].sum() \\\n",
    "    .unstack().plot(figsize = (10,10),grid=True,rot=90,xlabel='Год',\n",
    "                   ylabel='Суммы продаж млн.',title='График продаж, для разных платформ');"
   ]
  },
  {
   "cell_type": "markdown",
   "id": "adcd2915",
   "metadata": {},
   "source": [
    "Данные за 2016 могут быть неполными, исходя из этого делаем следующие выводы:  \n",
    "PS4, X360 на восходящем тренде - потенциально прибыльные платформы, этом их продажи уже превышают продажи по другим платформам.      \n",
    "PC,PSV,WiiU стабильные продажи - сильного изменения не предвидится  \n",
    "PS3,X360 на нисходяцем тренде - продажи падают  \n",
    "PSP,Wii - продажи будут очень малы  \n"
   ]
  },
  {
   "cell_type": "code",
   "execution_count": 55,
   "id": "5e9b6d7e",
   "metadata": {
    "scrolled": false
   },
   "outputs": [
    {
     "data": {
      "image/png": "[encoded data removed]",
      "text/plain": [
       "<Figure size 432x432 with 1 Axes>"
      ]
     },
     "metadata": {
      "needs_background": "light"
     },
     "output_type": "display_data"
    }
   ],
   "source": [
    "#Построим боксплот по продажам игр в зависимости от платформы\n",
    "games_df_2013_2016.boxplot(column = ['all_sales'], by = ['platform'],figsize = (6,6));"
   ]
  },
  {
   "cell_type": "code",
   "execution_count": 56,
   "id": "544dd99f",
   "metadata": {},
   "outputs": [
    {
     "data": {
      "image/png": "[encoded data removed]",
      "text/plain": [
       "<Figure size 432x432 with 1 Axes>"
      ]
     },
     "metadata": {
      "needs_background": "light"
     },
     "output_type": "display_data"
    }
   ],
   "source": [
    "games_df_2013_2016[games_df_2013_2016['all_sales']<3].boxplot(column = ['all_sales'], by = ['platform'],figsize = (6,6));"
   ]
  },
  {
   "cell_type": "markdown",
   "id": "2e551af8",
   "metadata": {},
   "source": [
    "На всех платформах(кроме DS и PSP) существуют игры продажи которых значительно превышают \"усы\" распределения продаж.  \n",
    "Из-за скоса вверх, среднее будет больше медианы."
   ]
  },
  {
   "cell_type": "markdown",
   "id": "7cc9f2d7",
   "metadata": {},
   "source": [
    "Т.к. \"мы\"-интернет-магазин окупаемость разработки врядли важна. Но важно иметь диллерские контракты на игры которые дают прибыль превышающее медианное значение. И строить рекламу вокруг таких проектов-чтобы покупали у \"нас\"."
   ]
  },
  {
   "cell_type": "markdown",
   "id": "d7213219",
   "metadata": {},
   "source": [
    "#### Рассмотрим как влияют отзывы пользователей и критиков на продажи игра платформы PS4."
   ]
  },
  {
   "cell_type": "code",
   "execution_count": 57,
   "id": "50e37fb4",
   "metadata": {
    "scrolled": false
   },
   "outputs": [
    {
     "data": {
      "text/plain": [
       "array([<AxesSubplot:xlabel='Оценка пользователей', ylabel='Суммарные продажи'>],\n",
       "      dtype=object)"
      ]
     },
     "execution_count": 57,
     "metadata": {},
     "output_type": "execute_result"
    },
    {
     "data": {
      "image/png": "[encoded data removed]",
      "text/plain": [
       "<Figure size 432x288 with 1 Axes>"
      ]
     },
     "metadata": {
      "needs_background": "light"
     },
     "output_type": "display_data"
    },
    {
     "data": {
      "image/png": "[encoded data removed]",
      "text/plain": [
       "<Figure size 432x288 with 1 Axes>"
      ]
     },
     "metadata": {
      "needs_background": "light"
     },
     "output_type": "display_data"
    }
   ],
   "source": [
    "games_df_2013_2016[games_df_2013_2016['platform'] == 'PS4'].plot(x='critic_score', y='all_sales', kind = 'scatter', \n",
    "                                                                 subplots=True,xlabel='Оценка критиков',\n",
    "                                                                 ylabel='Суммарные продажи', alpha=.3)\n",
    "games_df_2013_2016[games_df_2013_2016['platform'] == 'PS4'].plot(x='user_score', y='all_sales', kind = 'scatter', \n",
    "                                                                 subplots=True,xlabel='Оценка пользователей',\n",
    "                                                                 ylabel='Суммарные продажи', alpha=.3)"
   ]
  },
  {
   "cell_type": "code",
   "execution_count": 58,
   "id": "571d4663",
   "metadata": {},
   "outputs": [
    {
     "name": "stdout",
     "output_type": "stream",
     "text": [
      "73.0\n",
      "7.0\n"
     ]
    }
   ],
   "source": [
    "print(games_df_2013_2016[(games_df_2013_2016['platform'] == 'PS4')]['critic_score'].median())\n",
    "print(games_df_2013_2016[(games_df_2013_2016['platform'] == 'PS4')]['user_score'].median())"
   ]
  },
  {
   "cell_type": "code",
   "execution_count": 59,
   "id": "e0cb1698",
   "metadata": {
    "scrolled": false
   },
   "outputs": [
    {
     "data": {
      "text/plain": [
       "array([<AxesSubplot:xlabel='Оценка пользователей', ylabel='Суммарные продажи'>],\n",
       "      dtype=object)"
      ]
     },
     "execution_count": 59,
     "metadata": {},
     "output_type": "execute_result"
    },
    {
     "data": {
      "image/png": "[encoded data removed]",
      "text/plain": [
       "<Figure size 432x288 with 1 Axes>"
      ]
     },
     "metadata": {
      "needs_background": "light"
     },
     "output_type": "display_data"
    },
    {
     "data": {
      "image/png": "[encoded data removed]",
      "text/plain": [
       "<Figure size 432x288 with 1 Axes>"
      ]
     },
     "metadata": {
      "needs_background": "light"
     },
     "output_type": "display_data"
    }
   ],
   "source": [
    "games_df_2013_2016[(games_df_2013_2016['platform'] == 'PS4') & (games_df_2013_2016['critic_score']>=73)].plot(x='critic_score', y='all_sales', kind = 'scatter', \n",
    "                                                                 subplots=True,xlabel='Оценка критиков',\n",
    "                                                                 ylabel='Суммарные продажи', alpha=.3)\n",
    "games_df_2013_2016[(games_df_2013_2016['platform'] == 'PS4') & (games_df_2013_2016['user_score']>=7.3)].plot(x='user_score', y='all_sales', kind = 'scatter', \n",
    "                                                                 subplots=True,xlabel='Оценка пользователей',\n",
    "                                                                 ylabel='Суммарные продажи', alpha=.3)"
   ]
  },
  {
   "cell_type": "code",
   "execution_count": 61,
   "id": "6b462204",
   "metadata": {},
   "outputs": [
    {
     "name": "stdout",
     "output_type": "stream",
     "text": [
      "Коэффициент корреляции между оценкой критиков и общими продажами для платформы PS4: 0.40656790206178095\n",
      "Коэффициент корреляции между оценкой пользователей и общими продажами для платформы PS4: -0.031957110204556376\n",
      "392 34\n",
      "Коэффициент корреляции между оценкой критиков и общими продажами для платформы PS4 для высоких оценок: 0.44224803358373327\n",
      "392 14\n",
      "Коэффициент корреляции между оценкой пользователей и общими продажами для платформы PS4 для высоких оценок: 0.7667237954703281\n"
     ]
    }
   ],
   "source": [
    "print('Коэффициент корреляции между оценкой критиков и общими продажами для платформы PS4:',\n",
    "      games_df_2013_2016[(games_df_2013_2016['platform'] == 'PS4')]['critic_score'].corr(games_df_2013_2016['all_sales']))\n",
    "print('Коэффициент корреляции между оценкой пользователей и общими продажами для платформы PS4:',\n",
    "      games_df_2013_2016[(games_df_2013_2016['platform'] == 'PS4')]['user_score'].corr(games_df_2013_2016['all_sales']))\n",
    "print(len(games_df_2013_2016[(games_df_2013_2016['platform'] == 'PS4')]),\n",
    "      len(games_df_2013_2016[(games_df_2013_2016['platform'] == 'PS4') & (games_df_2013_2016['critic_score']>=85)]))\n",
    "print('Коэффициент корреляции между оценкой критиков и общими продажами для платформы PS4 для высоких оценок:',\n",
    "      games_df_2013_2016[(games_df_2013_2016['platform'] == 'PS4') & (games_df_2013_2016['critic_score']>=85)]['critic_score'].corr(games_df_2013_2016['all_sales']))\n",
    "print(len(games_df_2013_2016[(games_df_2013_2016['platform'] == 'PS4')]),\n",
    "     len(games_df_2013_2016[(games_df_2013_2016['platform'] == 'PS4') & (games_df_2013_2016['user_score']>=8.5)]))\n",
    "print('Коэффициент корреляции между оценкой пользователей и общими продажами для платформы PS4 для высоких оценок:',\n",
    "      games_df_2013_2016[(games_df_2013_2016['platform'] == 'PS4') & (games_df_2013_2016['user_score']>=8.5)]['user_score'].corr(games_df_2013_2016['all_sales']))"
   ]
  },
  {
   "cell_type": "markdown",
   "id": "ad2223d4",
   "metadata": {},
   "source": [
    "Корреляция между оценкой критиков и продажами слабая, что на всем диапазоне, что при высоких оценках(больше 85), можно не учитывать.\n",
    "Если рассматривать весь диапазон оценок, то корреляция между оценкой пользователей и продажами отсутствует.\n",
    "Если смотреть на высокие оценки пользователей (больше 8.5)), то корреляция с продажами значительна, однако из-за малого количества таких игр, нельзя это однознаяно утверждать.\n"
   ]
  },
  {
   "cell_type": "markdown",
   "id": "03c88a6c",
   "metadata": {},
   "source": [
    "Рассмотрим корреляцию для других платформ."
   ]
  },
  {
   "cell_type": "code",
   "execution_count": 62,
   "id": "32fba11d",
   "metadata": {},
   "outputs": [
    {
     "name": "stderr",
     "output_type": "stream",
     "text": [
      "/opt/conda/lib/python3.9/site-packages/numpy/lib/function_base.py:2683: RuntimeWarning: Degrees of freedom <= 0 for slice\n",
      "  c = cov(x, y, rowvar, dtype=dtype)\n",
      "/opt/conda/lib/python3.9/site-packages/numpy/lib/function_base.py:2542: RuntimeWarning: divide by zero encountered in true_divide\n",
      "  c *= np.true_divide(1, fact)\n",
      "/opt/conda/lib/python3.9/site-packages/numpy/lib/function_base.py:2683: RuntimeWarning: Degrees of freedom <= 0 for slice\n",
      "  c = cov(x, y, rowvar, dtype=dtype)\n",
      "/opt/conda/lib/python3.9/site-packages/numpy/lib/function_base.py:2542: RuntimeWarning: divide by zero encountered in true_divide\n",
      "  c *= np.true_divide(1, fact)\n"
     ]
    },
    {
     "data": {
      "text/html": [
       "<div>\n",
       "<style scoped>\n",
       "    .dataframe tbody tr th:only-of-type {\n",
       "        vertical-align: middle;\n",
       "    }\n",
       "\n",
       "    .dataframe tbody tr th {\n",
       "        vertical-align: top;\n",
       "    }\n",
       "\n",
       "    .dataframe thead th {\n",
       "        text-align: right;\n",
       "    }\n",
       "</style>\n",
       "<table border=\"1\" class=\"dataframe\">\n",
       "  <thead>\n",
       "    <tr style=\"text-align: right;\">\n",
       "      <th></th>\n",
       "      <th>critic_score</th>\n",
       "      <th>critic_score&gt;85</th>\n",
       "      <th>user_score</th>\n",
       "      <th>user_score&gt;8.5</th>\n",
       "    </tr>\n",
       "  </thead>\n",
       "  <tbody>\n",
       "    <tr>\n",
       "      <th>PS3</th>\n",
       "      <td>0.3343</td>\n",
       "      <td>0.5372</td>\n",
       "      <td>0.0024</td>\n",
       "      <td>0.5775</td>\n",
       "    </tr>\n",
       "    <tr>\n",
       "      <th>X360</th>\n",
       "      <td>0.3503</td>\n",
       "      <td>0.7246</td>\n",
       "      <td>-0.0117</td>\n",
       "      <td>-1.0000</td>\n",
       "    </tr>\n",
       "    <tr>\n",
       "      <th>PS4</th>\n",
       "      <td>0.4066</td>\n",
       "      <td>0.4422</td>\n",
       "      <td>-0.0320</td>\n",
       "      <td>0.7667</td>\n",
       "    </tr>\n",
       "    <tr>\n",
       "      <th>3DS</th>\n",
       "      <td>0.3571</td>\n",
       "      <td>-0.6757</td>\n",
       "      <td>0.2415</td>\n",
       "      <td>0.3682</td>\n",
       "    </tr>\n",
       "    <tr>\n",
       "      <th>XOne</th>\n",
       "      <td>0.4170</td>\n",
       "      <td>0.2906</td>\n",
       "      <td>-0.0689</td>\n",
       "      <td>0.6526</td>\n",
       "    </tr>\n",
       "    <tr>\n",
       "      <th>WiiU</th>\n",
       "      <td>0.3764</td>\n",
       "      <td>0.2333</td>\n",
       "      <td>0.4193</td>\n",
       "      <td>0.5655</td>\n",
       "    </tr>\n",
       "    <tr>\n",
       "      <th>Wii</th>\n",
       "      <td>NaN</td>\n",
       "      <td>NaN</td>\n",
       "      <td>0.6829</td>\n",
       "      <td>NaN</td>\n",
       "    </tr>\n",
       "    <tr>\n",
       "      <th>PC</th>\n",
       "      <td>0.1997</td>\n",
       "      <td>0.2739</td>\n",
       "      <td>-0.0900</td>\n",
       "      <td>0.4186</td>\n",
       "    </tr>\n",
       "    <tr>\n",
       "      <th>PSV</th>\n",
       "      <td>0.2547</td>\n",
       "      <td>-0.1963</td>\n",
       "      <td>0.0009</td>\n",
       "      <td>-0.0514</td>\n",
       "    </tr>\n",
       "    <tr>\n",
       "      <th>DS</th>\n",
       "      <td>NaN</td>\n",
       "      <td>NaN</td>\n",
       "      <td>NaN</td>\n",
       "      <td>NaN</td>\n",
       "    </tr>\n",
       "    <tr>\n",
       "      <th>PSP</th>\n",
       "      <td>NaN</td>\n",
       "      <td>NaN</td>\n",
       "      <td>-1.0000</td>\n",
       "      <td>NaN</td>\n",
       "    </tr>\n",
       "  </tbody>\n",
       "</table>\n",
       "</div>"
      ],
      "text/plain": [
       "      critic_score  critic_score>85  user_score  user_score>8.5\n",
       "PS3         0.3343           0.5372      0.0024          0.5775\n",
       "X360        0.3503           0.7246     -0.0117         -1.0000\n",
       "PS4         0.4066           0.4422     -0.0320          0.7667\n",
       "3DS         0.3571          -0.6757      0.2415          0.3682\n",
       "XOne        0.4170           0.2906     -0.0689          0.6526\n",
       "WiiU        0.3764           0.2333      0.4193          0.5655\n",
       "Wii            NaN              NaN      0.6829             NaN\n",
       "PC          0.1997           0.2739     -0.0900          0.4186\n",
       "PSV         0.2547          -0.1963      0.0009         -0.0514\n",
       "DS             NaN              NaN         NaN             NaN\n",
       "PSP            NaN              NaN     -1.0000             NaN"
      ]
     },
     "execution_count": 62,
     "metadata": {},
     "output_type": "execute_result"
    }
   ],
   "source": [
    "games_df_2013_2016_platform_list = games_df_2013_2016['platform'].unique().tolist()\n",
    "platform_corr = dict()\n",
    "for i in games_df_2013_2016_platform_list:\n",
    "    platform_corr[i] = ([games_df_2013_2016[(games_df_2013_2016['platform'] == i)]['critic_score'].corr(games_df_2013_2016['all_sales']),\n",
    "                        games_df_2013_2016[(games_df_2013_2016['platform'] == i) & (games_df_2013_2016['critic_score']>=85)]['critic_score'].corr(games_df_2013_2016['all_sales']),\n",
    "                        games_df_2013_2016[(games_df_2013_2016['platform'] == i)]['user_score'].corr(games_df_2013_2016['all_sales']),                            \n",
    "                       games_df_2013_2016[(games_df_2013_2016['platform'] == i) & (games_df_2013_2016['user_score']>=8.5)]['user_score'].corr(games_df_2013_2016['all_sales'])\n",
    "                        ])\n",
    "\n",
    "    platform_corr[i] = [round(j,4) for j in platform_corr[i]]\n",
    "\n",
    "platform_corr_df = pd.DataFrame(platform_corr).T\n",
    "platform_corr_df.columns = ['critic_score','critic_score>85','user_score','user_score>8.5']\n",
    "platform_corr_df"
   ]
  },
  {
   "cell_type": "markdown",
   "id": "3d4d3779",
   "metadata": {},
   "source": [
    "Корреляция между оценкой критиков и продажами слабая.  \n",
    "Корреляция между оценкой пользователей и продажами отсутствует."
   ]
  },
  {
   "cell_type": "markdown",
   "id": "cd81c262",
   "metadata": {},
   "source": [
    "#### Рассмотрим распределение игр по жанрам"
   ]
  },
  {
   "cell_type": "code",
   "execution_count": 64,
   "id": "c468b872",
   "metadata": {
    "scrolled": false
   },
   "outputs": [
    {
     "data": {
      "text/plain": [
       "genre\n",
       "Action          322.50\n",
       "Shooter         232.98\n",
       "Sports          150.65\n",
       "Role-Playing    145.89\n",
       "Misc             63.06\n",
       "Platform         42.63\n",
       "Racing           39.89\n",
       "Fighting         35.31\n",
       "Adventure        23.64\n",
       "Simulation       21.76\n",
       "Strategy         10.08\n",
       "Puzzle            3.17\n",
       "Name: all_sales, dtype: float64"
      ]
     },
     "execution_count": 64,
     "metadata": {},
     "output_type": "execute_result"
    }
   ],
   "source": [
    "games_df_2013_2016.groupby('genre')['all_sales'].sum().sort_values(ascending=False)\n"
   ]
  },
  {
   "cell_type": "markdown",
   "id": "c8254533",
   "metadata": {},
   "source": [
    "Наиболее прибыльные игры жанра Action,Shooter,Sports,Role-Playing.\n",
    "Наименне прибыльные жанры Strategy,Puzzle"
   ]
  },
  {
   "cell_type": "code",
   "execution_count": 65,
   "id": "cd8c40b5",
   "metadata": {},
   "outputs": [
    {
     "data": {
      "text/plain": [
       "genre\n",
       "Shooter         0.450\n",
       "Sports          0.240\n",
       "Platform        0.225\n",
       "Role-Playing    0.125\n",
       "Fighting        0.125\n",
       "Racing          0.120\n",
       "Action          0.110\n",
       "Misc            0.105\n",
       "Simulation      0.100\n",
       "Strategy        0.080\n",
       "Puzzle          0.060\n",
       "Adventure       0.030\n",
       "Name: all_sales, dtype: float64"
      ]
     },
     "execution_count": 65,
     "metadata": {},
     "output_type": "execute_result"
    }
   ],
   "source": [
    "games_df_2013_2016.groupby('genre')['all_sales'].median().sort_values(ascending=False)"
   ]
  },
  {
   "cell_type": "code",
   "execution_count": 66,
   "id": "eb2c382b",
   "metadata": {},
   "outputs": [
    {
     "data": {
      "text/plain": [
       "genre\n",
       "Shooter         1.245882\n",
       "Sports          0.703972\n",
       "Platform        0.576081\n",
       "Role-Playing    0.499623\n",
       "Racing          0.469294\n",
       "Fighting        0.441375\n",
       "Action          0.419376\n",
       "Misc            0.404231\n",
       "Simulation      0.350968\n",
       "Puzzle          0.186471\n",
       "Strategy        0.180000\n",
       "Adventure       0.096490\n",
       "Name: all_sales, dtype: float64"
      ]
     },
     "execution_count": 66,
     "metadata": {},
     "output_type": "execute_result"
    }
   ],
   "source": [
    "games_df_2013_2016.groupby('genre')['all_sales'].mean().sort_values(ascending=False)"
   ]
  },
  {
   "cell_type": "markdown",
   "id": "63b9a1e5",
   "metadata": {},
   "source": [
    "По отдельным играм наиболее прибыльные игры жанров Shooter, Sports, Platform.  \n",
    "Причем их средняя прибыль в разы больше медианной."
   ]
  },
  {
   "cell_type": "markdown",
   "id": "4b2ef0fe",
   "metadata": {},
   "source": [
    "### Портрет пользователя по регионам."
   ]
  },
  {
   "cell_type": "markdown",
   "id": "7b728eb7",
   "metadata": {},
   "source": [
    "#### по платформам"
   ]
  },
  {
   "cell_type": "code",
   "execution_count": 67,
   "id": "01956d7b",
   "metadata": {},
   "outputs": [
    {
     "name": "stdout",
     "output_type": "stream",
     "text": [
      "NA platform\n",
      "PS4     108.74\n",
      "XOne     93.12\n",
      "X360     81.66\n",
      "PS3      63.50\n",
      "3DS      38.20\n",
      "Name: na_sales, dtype: float64\n",
      "EU platform\n",
      "PS4     141.09\n",
      "PS3      67.81\n",
      "XOne     51.59\n",
      "X360     42.52\n",
      "3DS      30.96\n",
      "Name: eu_sales, dtype: float64\n",
      "JP platform\n",
      "3DS     67.81\n",
      "PS3     23.35\n",
      "PSV     18.59\n",
      "PS4     15.96\n",
      "WiiU    10.88\n",
      "Name: jp_sales, dtype: float64\n"
     ]
    }
   ],
   "source": [
    "print('NA',games_df_2013_2016.groupby('platform')['na_sales'].sum().sort_values(ascending=False)[0:5])\n",
    "print('EU',games_df_2013_2016.groupby('platform')['eu_sales'].sum().sort_values(ascending=False)[0:5])\n",
    "print('JP',games_df_2013_2016.groupby('platform')['jp_sales'].sum().sort_values(ascending=False)[0:5])"
   ]
  },
  {
   "cell_type": "code",
   "execution_count": 87,
   "id": "425e707e",
   "metadata": {},
   "outputs": [
    {
     "data": {
      "image/png": "[encoded data removed]",
      "text/plain": [
       "<Figure size 720x720 with 1 Axes>"
      ]
     },
     "metadata": {
      "needs_background": "light"
     },
     "output_type": "display_data"
    }
   ],
   "source": [
    "data = dict()\n",
    "data['Америка'] = games_df_2013_2016.groupby('platform')['na_sales'].sum().sort_values(ascending=False)[0:5]\n",
    "data['Европа'] = games_df_2013_2016.groupby('platform')['eu_sales'].sum().sort_values(ascending=False)[0:5]\n",
    "data['Япония'] = games_df_2013_2016.groupby('platform')['jp_sales'].sum().sort_values(ascending=False)[0:5]\n",
    "data = pd.DataFrame(data).T\n",
    "\n",
    "data.plot(kind='bar',figsize = (10,10),xlabel='Регион',ylabel='Продажи млн.',title='Пять самых популярных платформы в регионе', grid=True);\n",
    "plt.legend(title='Платформа');"
   ]
  },
  {
   "cell_type": "markdown",
   "id": "bcae0d0e",
   "metadata": {},
   "source": [
    "В Северной Америке и Европе популярны одинаковые платформы, самая популярная PS4, немного различается только распределение мест в ТОП-5.  \n",
    "В Японии ТОП-5 кардинально отличается от Европы и Америки, самая популярная 3DS(причем с отрывом в 3 раза), в ТОП-5 отсутствуют XOne,X360."
   ]
  },
  {
   "cell_type": "markdown",
   "id": "b56d99c1",
   "metadata": {},
   "source": [
    "#### по жанрам"
   ]
  },
  {
   "cell_type": "code",
   "execution_count": 88,
   "id": "a1ebefa6",
   "metadata": {},
   "outputs": [
    {
     "name": "stdout",
     "output_type": "stream",
     "text": [
      "NA genre\n",
      "Action          126.13\n",
      "Shooter         109.74\n",
      "Sports           65.27\n",
      "Role-Playing     46.40\n",
      "Misc             27.49\n",
      "Name: na_sales, dtype: float64\n",
      "EU genre\n",
      "Action          118.61\n",
      "Shooter          87.86\n",
      "Sports           60.52\n",
      "Role-Playing     36.97\n",
      "Racing           20.19\n",
      "Name: eu_sales, dtype: float64\n",
      "JP genre\n",
      "Role-Playing    51.04\n",
      "Action          40.49\n",
      "Misc             9.44\n",
      "Fighting         7.65\n",
      "Shooter          6.61\n",
      "Name: jp_sales, dtype: float64\n"
     ]
    }
   ],
   "source": [
    "print('NA',games_df_2013_2016.groupby('genre')['na_sales'].sum().sort_values(ascending=False)[0:5])\n",
    "print('EU',games_df_2013_2016.groupby('genre')['eu_sales'].sum().sort_values(ascending=False)[0:5])\n",
    "print('JP',games_df_2013_2016.groupby('genre')['jp_sales'].sum().sort_values(ascending=False)[0:5])"
   ]
  },
  {
   "cell_type": "code",
   "execution_count": 91,
   "id": "4ffae784",
   "metadata": {},
   "outputs": [
    {
     "data": {
      "image/png": "[encoded data removed]",
      "text/plain": [
       "<Figure size 720x720 with 1 Axes>"
      ]
     },
     "metadata": {
      "needs_background": "light"
     },
     "output_type": "display_data"
    }
   ],
   "source": [
    "data = dict()\n",
    "data['Америка'] = games_df_2013_2016.groupby('genre')['na_sales'].sum().sort_values(ascending=False)[0:5]\n",
    "data['Европа'] = games_df_2013_2016.groupby('genre')['eu_sales'].sum().sort_values(ascending=False)[0:5]\n",
    "data['Япония'] = games_df_2013_2016.groupby('genre')['jp_sales'].sum().sort_values(ascending=False)[0:5]\n",
    "data = pd.DataFrame(data).T\n",
    "\n",
    "data.plot(kind='bar',figsize = (10,10),xlabel='Регион',ylabel='Продажи млн.',title='Пять самых популярных жанров в регионе', grid=True);\n",
    "plt.legend(title='Жанр');"
   ]
  },
  {
   "cell_type": "markdown",
   "id": "33ea16e5",
   "metadata": {},
   "source": [
    "Жанры Action,Shooter,Role-Playing присутствуют  во всех ТОП-5. Но даже здесь Япония выделяется - на первом месте Role-Playing, который в остальных топах только на 4м месте."
   ]
  },
  {
   "cell_type": "markdown",
   "id": "ef850df9",
   "metadata": {},
   "source": [
    "#### по рейтингу ESRB"
   ]
  },
  {
   "cell_type": "code",
   "execution_count": 90,
   "id": "ec813917",
   "metadata": {},
   "outputs": [
    {
     "name": "stdout",
     "output_type": "stream",
     "text": [
      "NA rating\n",
      "M       165.29\n",
      "RP       89.42\n",
      "E        79.05\n",
      "E10+     54.24\n",
      "T        49.79\n",
      "Name: na_sales, dtype: float64\n",
      "EU rating\n",
      "M       145.80\n",
      "E        83.36\n",
      "RP       78.91\n",
      "E10+     42.69\n",
      "T        41.95\n",
      "Name: eu_sales, dtype: float64\n",
      "JP rating\n",
      "RP      85.29\n",
      "T       20.59\n",
      "E       15.14\n",
      "M       14.11\n",
      "E10+     5.89\n",
      "Name: jp_sales, dtype: float64\n"
     ]
    }
   ],
   "source": [
    "print('NA',games_df_2013_2016.groupby('rating')['na_sales'].sum().sort_values(ascending=False)[0:5])\n",
    "print('EU',games_df_2013_2016.groupby('rating')['eu_sales'].sum().sort_values(ascending=False)[0:5])\n",
    "print('JP',games_df_2013_2016.groupby('rating')['jp_sales'].sum().sort_values(ascending=False)[0:5])"
   ]
  },
  {
   "cell_type": "code",
   "execution_count": 92,
   "id": "d8c5dfe9",
   "metadata": {},
   "outputs": [
    {
     "data": {
      "image/png": "[encoded data removed]",
      "text/plain": [
       "<Figure size 720x720 with 1 Axes>"
      ]
     },
     "metadata": {
      "needs_background": "light"
     },
     "output_type": "display_data"
    }
   ],
   "source": [
    "data = dict()\n",
    "data['Америка'] = games_df_2013_2016.groupby('rating')['na_sales'].sum().sort_values(ascending=False)[0:5]\n",
    "data['Европа'] = games_df_2013_2016.groupby('rating')['eu_sales'].sum().sort_values(ascending=False)[0:5]\n",
    "data['Япония'] = games_df_2013_2016.groupby('rating')['jp_sales'].sum().sort_values(ascending=False)[0:5]\n",
    "data = pd.DataFrame(data).T\n",
    "\n",
    "data.plot(kind='bar',figsize = (10,10),xlabel='Регион',ylabel='Продажи млн.',title='Популярность игр в регионе в зависимости от возрастного рейтинга', grid=True);\n",
    "plt.legend(title='Рейтинг');"
   ]
  },
  {
   "cell_type": "markdown",
   "id": "a5f6c294",
   "metadata": {},
   "source": [
    "В Европе и Америке опять одинаковые топы, на первом месте рейтинг М-для взрослых(довольно сильное ограничение).  \n",
    "При этом значительные продажи имеют игры Юез рейтинга(RP). И если для Японии это объяснимо (ESRB -организация из Америки).   Наличие в Европе и тем более в Америке игр без рейтинга на 2м месте, приводит к выводу, что данный рейтинг не сильно влияет на продажи."
   ]
  },
  {
   "cell_type": "markdown",
   "id": "6c6f73cc",
   "metadata": {},
   "source": [
    "#### Промежиточный итог:  \n",
    "Европа и Америка похожи по своим предпочтениям.\n",
    "Япония от них очень отличается.\n",
    "Соответственно для Европы и Америки можно объединить ассортимент, рекламные компании, для Японии необходимо разрабатывать отдельно, исходя из особенностей данного рынка."
   ]
  },
  {
   "cell_type": "markdown",
   "id": "903371e8",
   "metadata": {},
   "source": [
    "### Проверка гипотез"
   ]
  },
  {
   "cell_type": "markdown",
   "id": "97db3b28",
   "metadata": {},
   "source": [
    "#### Средние пользовательские рейтинги платформ Xbox One и PC одинаковы"
   ]
  },
  {
   "cell_type": "markdown",
   "id": "537c2875",
   "metadata": {},
   "source": [
    "Нулевая гипотеза - средние рейтинги равны.  \n",
    "Альтернативная - средние рейтинги отличаются."
   ]
  },
  {
   "cell_type": "code",
   "execution_count": 103,
   "id": "4c80ba8f",
   "metadata": {},
   "outputs": [
    {
     "name": "stdout",
     "output_type": "stream",
     "text": [
      "p-значение: 0.15503167687396294\n",
      "Не получилось отвергнуть нулевую гипотезу\n"
     ]
    }
   ],
   "source": [
    "\n",
    "list_xone = games_df_2013_2016[games_df_2013_2016['platform'] == 'XOne']['user_score'].tolist()\n",
    "list_pc = games_df_2013_2016[games_df_2013_2016['platform'] == 'PC']['user_score'].tolist()\n",
    "\n",
    "alpha = 0.01\n",
    "results = st.ttest_ind(list_xone,list_pc,nan_policy='omit')\n",
    "\n",
    "print('p-значение:', results.pvalue)\n",
    "\n",
    "if results.pvalue<alpha:\n",
    "    print(\"Отвергаем нулевую гипотезу\")\n",
    "else:\n",
    "    print(\"Не получилось отвергнуть нулевую гипотезу\")"
   ]
  },
  {
   "cell_type": "markdown",
   "id": "0fad0ced",
   "metadata": {},
   "source": [
    "Принимаем гипотезу о том, что средние пользовательские рейтинги платформ Xbox One и PC одинаковые."
   ]
  },
  {
   "cell_type": "markdown",
   "id": "23db965d",
   "metadata": {},
   "source": [
    "#### Средние пользовательские рейтинги жанров Action (англ. «действие», экшен-игры) и Sports (англ. «спортивные соревнования») разные"
   ]
  },
  {
   "cell_type": "markdown",
   "id": "cfd3bb55",
   "metadata": {},
   "source": [
    "Нулевая гипотеза - средние рейтинги равны.  \n",
    "Альтернативная - средние рейтинги отличаются."
   ]
  },
  {
   "cell_type": "code",
   "execution_count": 105,
   "id": "168fb889",
   "metadata": {},
   "outputs": [
    {
     "name": "stdout",
     "output_type": "stream",
     "text": [
      "p-значение: 8.117296239191993e-28\n",
      "Отвергаем нулевую гипотезу\n"
     ]
    }
   ],
   "source": [
    "#Нулевая гипотеза-рейтинги равны\n",
    "list_action = games_df_2013_2016[games_df_2013_2016['genre'] == 'Action']['user_score'].tolist()\n",
    "list_sports = games_df_2013_2016[games_df_2013_2016['genre'] == 'Sports']['user_score'].tolist()\n",
    "\n",
    "alpha = 0.01\n",
    "results = st.ttest_ind(list_action,list_sports,nan_policy='omit')\n",
    "\n",
    "print('p-значение:', results.pvalue)\n",
    "\n",
    "if results.pvalue<alpha:\n",
    "    print(\"Отвергаем нулевую гипотезу\")\n",
    "else:\n",
    "    print(\"Не получилось отвергнуть нулевую гипотезу\")"
   ]
  },
  {
   "cell_type": "markdown",
   "id": "deaafcb7",
   "metadata": {},
   "source": [
    "Принимаем гипотезу о том что, средние пользовательские рейтинги жанров Action (англ. «действие», экшен-игры) и Sports (англ. «спортивные соревнования») разные."
   ]
  },
  {
   "cell_type": "markdown",
   "id": "61e9f913",
   "metadata": {},
   "source": [
    "### Общие выводы\n",
    "После получения данных, произведен их первичный анализ.  \n",
    "Определены столбцы с пропущенными значениями, и несоответствием типа данных.  \n",
    "При предобработке данных заполнены пропущенные данные:  \n",
    "- год выпуска;      \n",
    "- рейтинг от организации ESRB.  \n",
    "Удалены строки с пропущенными значениями названия игры, года выхода, а также имеющие не распространённые возрастные рейтинги.   \n",
    "Исправлены типы:  \n",
    "- год выпуска;  \n",
    "- оценка пользователей.  \n",
    "Добавлен столбец с суммарной продажей игр.  \n",
    "\n",
    "При исследовании данных установлено:  \n",
    "- средний срок жизни платформы 5-7 лет;  \n",
    "- наиболее потенциально прибыльные платформы в 2017 это PS4 и X360;  \n",
    "- взаимосвязь между оценками пользователей продажами не обнаружено;  \n",
    "- взаимосвязь между оценкой критиков и продажами слабая;  \n",
    "- наиболее прибыльные игры жанров Shooter, Sports, Platform.;  \n",
    "- продажи в Японии сильно отличаются от Америки и Европы, как по платформам так и по жанрам игр;  \n",
    "- рейтинг ESRB не влияет на продажи игр.\n",
    "- для Европы и Америки можно объединить ассортимент, рекламные компании, для Японии необходимо разрабатывать отдельно, исходя из особенностей данного рынка.  \n",
    "\n",
    "Проверили гипотезы и сделали вывод:  \n",
    "- средние пользовательские рейтинги платформ Xbox One и PC одинаковы.\n",
    "- средние пользовательские рейтинги жанров Action (англ. «действие», экшен-игры) и Sports (англ. «спортивные соревнования») разные.  \n",
    " \n"
   ]
  }
 ],
 "metadata": {
  "ExecuteTimeLog": [
   {
    "duration": 3,
    "start_time": "2022-11-21T13:26:14.439Z"
   },
   {
    "duration": 1246,
    "start_time": "2022-11-21T13:26:14.443Z"
   },
   {
    "duration": 246,
    "start_time": "2022-11-21T13:26:15.693Z"
   },
   {
    "duration": 14,
    "start_time": "2022-11-21T13:26:15.940Z"
   },
   {
    "duration": 3,
    "start_time": "2022-11-21T13:26:15.956Z"
   },
   {
    "duration": 8,
    "start_time": "2022-11-21T13:26:15.960Z"
   },
   {
    "duration": 10,
    "start_time": "2022-11-21T13:26:15.969Z"
   },
   {
    "duration": 13,
    "start_time": "2022-11-21T13:26:15.981Z"
   },
   {
    "duration": 102,
    "start_time": "2022-11-21T13:26:15.995Z"
   },
   {
    "duration": 0,
    "start_time": "2022-11-21T13:26:16.101Z"
   },
   {
    "duration": 0,
    "start_time": "2022-11-21T13:26:16.103Z"
   },
   {
    "duration": 0,
    "start_time": "2022-11-21T13:26:16.104Z"
   },
   {
    "duration": 0,
    "start_time": "2022-11-21T13:26:16.105Z"
   },
   {
    "duration": 0,
    "start_time": "2022-11-21T13:26:16.106Z"
   },
   {
    "duration": 0,
    "start_time": "2022-11-21T13:26:16.107Z"
   },
   {
    "duration": 0,
    "start_time": "2022-11-21T13:26:16.109Z"
   },
   {
    "duration": 0,
    "start_time": "2022-11-21T13:26:16.128Z"
   },
   {
    "duration": 0,
    "start_time": "2022-11-21T13:26:16.128Z"
   },
   {
    "duration": 0,
    "start_time": "2022-11-21T13:26:16.129Z"
   },
   {
    "duration": 0,
    "start_time": "2022-11-21T13:26:16.129Z"
   },
   {
    "duration": 0,
    "start_time": "2022-11-21T13:26:16.130Z"
   },
   {
    "duration": 0,
    "start_time": "2022-11-21T13:26:16.131Z"
   },
   {
    "duration": 0,
    "start_time": "2022-11-21T13:26:16.132Z"
   },
   {
    "duration": 0,
    "start_time": "2022-11-21T13:26:16.132Z"
   },
   {
    "duration": 0,
    "start_time": "2022-11-21T13:26:16.133Z"
   },
   {
    "duration": 0,
    "start_time": "2022-11-21T13:26:16.133Z"
   },
   {
    "duration": 0,
    "start_time": "2022-11-21T13:26:16.134Z"
   },
   {
    "duration": 0,
    "start_time": "2022-11-21T13:26:16.135Z"
   },
   {
    "duration": 0,
    "start_time": "2022-11-21T13:26:16.135Z"
   },
   {
    "duration": 0,
    "start_time": "2022-11-21T13:26:16.136Z"
   },
   {
    "duration": 0,
    "start_time": "2022-11-21T13:26:16.137Z"
   },
   {
    "duration": 0,
    "start_time": "2022-11-21T13:26:16.137Z"
   },
   {
    "duration": 0,
    "start_time": "2022-11-21T13:26:16.138Z"
   },
   {
    "duration": 0,
    "start_time": "2022-11-21T13:26:16.139Z"
   },
   {
    "duration": 0,
    "start_time": "2022-11-21T13:26:16.139Z"
   },
   {
    "duration": 0,
    "start_time": "2022-11-21T13:26:16.140Z"
   },
   {
    "duration": 0,
    "start_time": "2022-11-21T13:26:16.141Z"
   },
   {
    "duration": 0,
    "start_time": "2022-11-21T13:26:16.141Z"
   },
   {
    "duration": 0,
    "start_time": "2022-11-21T13:26:16.142Z"
   },
   {
    "duration": 0,
    "start_time": "2022-11-21T13:26:16.143Z"
   },
   {
    "duration": 0,
    "start_time": "2022-11-21T13:26:16.144Z"
   },
   {
    "duration": 0,
    "start_time": "2022-11-21T13:26:16.145Z"
   },
   {
    "duration": 0,
    "start_time": "2022-11-21T13:26:16.147Z"
   },
   {
    "duration": 0,
    "start_time": "2022-11-21T13:26:16.148Z"
   },
   {
    "duration": 0,
    "start_time": "2022-11-21T13:26:16.149Z"
   },
   {
    "duration": 0,
    "start_time": "2022-11-21T13:26:16.150Z"
   },
   {
    "duration": 0,
    "start_time": "2022-11-21T13:26:16.151Z"
   },
   {
    "duration": 0,
    "start_time": "2022-11-21T13:26:16.153Z"
   },
   {
    "duration": 0,
    "start_time": "2022-11-21T13:26:16.154Z"
   },
   {
    "duration": 0,
    "start_time": "2022-11-21T13:26:16.155Z"
   },
   {
    "duration": 0,
    "start_time": "2022-11-21T13:26:16.156Z"
   },
   {
    "duration": 0,
    "start_time": "2022-11-21T13:26:16.157Z"
   },
   {
    "duration": 0,
    "start_time": "2022-11-21T13:26:16.158Z"
   },
   {
    "duration": 0,
    "start_time": "2022-11-21T13:26:16.159Z"
   },
   {
    "duration": 0,
    "start_time": "2022-11-21T13:26:16.160Z"
   },
   {
    "duration": 0,
    "start_time": "2022-11-21T13:26:16.161Z"
   },
   {
    "duration": 0,
    "start_time": "2022-11-21T13:26:16.162Z"
   },
   {
    "duration": 0,
    "start_time": "2022-11-21T13:26:16.163Z"
   },
   {
    "duration": 20,
    "start_time": "2022-11-21T13:27:29.222Z"
   },
   {
    "duration": 10,
    "start_time": "2022-11-21T13:27:33.559Z"
   },
   {
    "duration": 12,
    "start_time": "2022-11-21T13:29:02.494Z"
   },
   {
    "duration": 3,
    "start_time": "2022-11-21T13:33:13.548Z"
   },
   {
    "duration": 1009,
    "start_time": "2022-11-21T13:33:13.553Z"
   },
   {
    "duration": 68,
    "start_time": "2022-11-21T13:33:14.564Z"
   },
   {
    "duration": 18,
    "start_time": "2022-11-21T13:33:14.640Z"
   },
   {
    "duration": 2,
    "start_time": "2022-11-21T13:33:14.661Z"
   },
   {
    "duration": 11,
    "start_time": "2022-11-21T13:33:14.665Z"
   },
   {
    "duration": 9,
    "start_time": "2022-11-21T13:33:14.678Z"
   },
   {
    "duration": 19,
    "start_time": "2022-11-21T13:33:14.689Z"
   },
   {
    "duration": 119,
    "start_time": "2022-11-21T13:33:14.710Z"
   },
   {
    "duration": 0,
    "start_time": "2022-11-21T13:33:14.836Z"
   },
   {
    "duration": 0,
    "start_time": "2022-11-21T13:33:14.837Z"
   },
   {
    "duration": 0,
    "start_time": "2022-11-21T13:33:14.838Z"
   },
   {
    "duration": 0,
    "start_time": "2022-11-21T13:33:14.840Z"
   },
   {
    "duration": 0,
    "start_time": "2022-11-21T13:33:14.841Z"
   },
   {
    "duration": 0,
    "start_time": "2022-11-21T13:33:14.843Z"
   },
   {
    "duration": 0,
    "start_time": "2022-11-21T13:33:14.844Z"
   },
   {
    "duration": 0,
    "start_time": "2022-11-21T13:33:14.846Z"
   },
   {
    "duration": 0,
    "start_time": "2022-11-21T13:33:14.847Z"
   },
   {
    "duration": 0,
    "start_time": "2022-11-21T13:33:14.848Z"
   },
   {
    "duration": 0,
    "start_time": "2022-11-21T13:33:14.849Z"
   },
   {
    "duration": 0,
    "start_time": "2022-11-21T13:33:14.851Z"
   },
   {
    "duration": 0,
    "start_time": "2022-11-21T13:33:14.852Z"
   },
   {
    "duration": 0,
    "start_time": "2022-11-21T13:33:14.853Z"
   },
   {
    "duration": 0,
    "start_time": "2022-11-21T13:33:14.854Z"
   },
   {
    "duration": 0,
    "start_time": "2022-11-21T13:33:14.855Z"
   },
   {
    "duration": 0,
    "start_time": "2022-11-21T13:33:14.856Z"
   },
   {
    "duration": 0,
    "start_time": "2022-11-21T13:33:14.857Z"
   },
   {
    "duration": 0,
    "start_time": "2022-11-21T13:33:14.858Z"
   },
   {
    "duration": 0,
    "start_time": "2022-11-21T13:33:14.859Z"
   },
   {
    "duration": 0,
    "start_time": "2022-11-21T13:33:14.860Z"
   },
   {
    "duration": 0,
    "start_time": "2022-11-21T13:33:14.861Z"
   },
   {
    "duration": 0,
    "start_time": "2022-11-21T13:33:14.862Z"
   },
   {
    "duration": 0,
    "start_time": "2022-11-21T13:33:14.863Z"
   },
   {
    "duration": 0,
    "start_time": "2022-11-21T13:33:14.865Z"
   },
   {
    "duration": 0,
    "start_time": "2022-11-21T13:33:14.866Z"
   },
   {
    "duration": 0,
    "start_time": "2022-11-21T13:33:14.867Z"
   },
   {
    "duration": 0,
    "start_time": "2022-11-21T13:33:14.868Z"
   },
   {
    "duration": 0,
    "start_time": "2022-11-21T13:33:14.869Z"
   },
   {
    "duration": 0,
    "start_time": "2022-11-21T13:33:14.871Z"
   },
   {
    "duration": 0,
    "start_time": "2022-11-21T13:33:14.872Z"
   },
   {
    "duration": 0,
    "start_time": "2022-11-21T13:33:14.873Z"
   },
   {
    "duration": 0,
    "start_time": "2022-11-21T13:33:14.875Z"
   },
   {
    "duration": 0,
    "start_time": "2022-11-21T13:33:14.876Z"
   },
   {
    "duration": 0,
    "start_time": "2022-11-21T13:33:14.877Z"
   },
   {
    "duration": 1,
    "start_time": "2022-11-21T13:33:14.878Z"
   },
   {
    "duration": 0,
    "start_time": "2022-11-21T13:33:14.880Z"
   },
   {
    "duration": 0,
    "start_time": "2022-11-21T13:33:14.881Z"
   },
   {
    "duration": 0,
    "start_time": "2022-11-21T13:33:14.928Z"
   },
   {
    "duration": 0,
    "start_time": "2022-11-21T13:33:14.929Z"
   },
   {
    "duration": 0,
    "start_time": "2022-11-21T13:33:14.930Z"
   },
   {
    "duration": 0,
    "start_time": "2022-11-21T13:33:14.931Z"
   },
   {
    "duration": 0,
    "start_time": "2022-11-21T13:33:14.932Z"
   },
   {
    "duration": 0,
    "start_time": "2022-11-21T13:33:14.933Z"
   },
   {
    "duration": 0,
    "start_time": "2022-11-21T13:33:14.934Z"
   },
   {
    "duration": 0,
    "start_time": "2022-11-21T13:33:14.935Z"
   },
   {
    "duration": 0,
    "start_time": "2022-11-21T13:33:14.936Z"
   },
   {
    "duration": 0,
    "start_time": "2022-11-21T13:33:14.937Z"
   },
   {
    "duration": 0,
    "start_time": "2022-11-21T13:33:14.938Z"
   },
   {
    "duration": 3,
    "start_time": "2022-11-22T08:14:57.553Z"
   },
   {
    "duration": 1342,
    "start_time": "2022-11-22T08:14:57.559Z"
   },
   {
    "duration": 131,
    "start_time": "2022-11-22T08:14:58.905Z"
   },
   {
    "duration": 14,
    "start_time": "2022-11-22T08:14:59.038Z"
   },
   {
    "duration": 2,
    "start_time": "2022-11-22T08:14:59.054Z"
   },
   {
    "duration": 6,
    "start_time": "2022-11-22T08:14:59.058Z"
   },
   {
    "duration": 7,
    "start_time": "2022-11-22T08:14:59.065Z"
   },
   {
    "duration": 23,
    "start_time": "2022-11-22T08:14:59.073Z"
   },
   {
    "duration": 109,
    "start_time": "2022-11-22T08:14:59.098Z"
   },
   {
    "duration": 0,
    "start_time": "2022-11-22T08:14:59.210Z"
   },
   {
    "duration": 0,
    "start_time": "2022-11-22T08:14:59.211Z"
   },
   {
    "duration": 0,
    "start_time": "2022-11-22T08:14:59.212Z"
   },
   {
    "duration": 0,
    "start_time": "2022-11-22T08:14:59.213Z"
   },
   {
    "duration": 0,
    "start_time": "2022-11-22T08:14:59.214Z"
   },
   {
    "duration": 1,
    "start_time": "2022-11-22T08:14:59.215Z"
   },
   {
    "duration": 0,
    "start_time": "2022-11-22T08:14:59.217Z"
   },
   {
    "duration": 0,
    "start_time": "2022-11-22T08:14:59.218Z"
   },
   {
    "duration": 0,
    "start_time": "2022-11-22T08:14:59.219Z"
   },
   {
    "duration": 0,
    "start_time": "2022-11-22T08:14:59.220Z"
   },
   {
    "duration": 0,
    "start_time": "2022-11-22T08:14:59.221Z"
   },
   {
    "duration": 0,
    "start_time": "2022-11-22T08:14:59.222Z"
   },
   {
    "duration": 0,
    "start_time": "2022-11-22T08:14:59.223Z"
   },
   {
    "duration": 0,
    "start_time": "2022-11-22T08:14:59.224Z"
   },
   {
    "duration": 0,
    "start_time": "2022-11-22T08:14:59.225Z"
   },
   {
    "duration": 0,
    "start_time": "2022-11-22T08:14:59.227Z"
   },
   {
    "duration": 0,
    "start_time": "2022-11-22T08:14:59.228Z"
   },
   {
    "duration": 0,
    "start_time": "2022-11-22T08:14:59.229Z"
   },
   {
    "duration": 0,
    "start_time": "2022-11-22T08:14:59.230Z"
   },
   {
    "duration": 0,
    "start_time": "2022-11-22T08:14:59.231Z"
   },
   {
    "duration": 0,
    "start_time": "2022-11-22T08:14:59.232Z"
   },
   {
    "duration": 0,
    "start_time": "2022-11-22T08:14:59.233Z"
   },
   {
    "duration": 0,
    "start_time": "2022-11-22T08:14:59.234Z"
   },
   {
    "duration": 0,
    "start_time": "2022-11-22T08:14:59.235Z"
   },
   {
    "duration": 0,
    "start_time": "2022-11-22T08:14:59.236Z"
   },
   {
    "duration": 0,
    "start_time": "2022-11-22T08:14:59.237Z"
   },
   {
    "duration": 0,
    "start_time": "2022-11-22T08:14:59.238Z"
   },
   {
    "duration": 0,
    "start_time": "2022-11-22T08:14:59.239Z"
   },
   {
    "duration": 1,
    "start_time": "2022-11-22T08:14:59.240Z"
   },
   {
    "duration": 1,
    "start_time": "2022-11-22T08:14:59.296Z"
   },
   {
    "duration": 0,
    "start_time": "2022-11-22T08:14:59.298Z"
   },
   {
    "duration": 0,
    "start_time": "2022-11-22T08:14:59.299Z"
   },
   {
    "duration": 0,
    "start_time": "2022-11-22T08:14:59.300Z"
   },
   {
    "duration": 0,
    "start_time": "2022-11-22T08:14:59.302Z"
   },
   {
    "duration": 0,
    "start_time": "2022-11-22T08:14:59.303Z"
   },
   {
    "duration": 0,
    "start_time": "2022-11-22T08:14:59.305Z"
   },
   {
    "duration": 0,
    "start_time": "2022-11-22T08:14:59.306Z"
   },
   {
    "duration": 0,
    "start_time": "2022-11-22T08:14:59.307Z"
   },
   {
    "duration": 0,
    "start_time": "2022-11-22T08:14:59.309Z"
   },
   {
    "duration": 0,
    "start_time": "2022-11-22T08:14:59.311Z"
   },
   {
    "duration": 0,
    "start_time": "2022-11-22T08:14:59.312Z"
   },
   {
    "duration": 0,
    "start_time": "2022-11-22T08:14:59.314Z"
   },
   {
    "duration": 0,
    "start_time": "2022-11-22T08:14:59.315Z"
   },
   {
    "duration": 0,
    "start_time": "2022-11-22T08:14:59.316Z"
   },
   {
    "duration": 0,
    "start_time": "2022-11-22T08:14:59.317Z"
   },
   {
    "duration": 0,
    "start_time": "2022-11-22T08:14:59.318Z"
   },
   {
    "duration": 0,
    "start_time": "2022-11-22T08:14:59.320Z"
   },
   {
    "duration": 0,
    "start_time": "2022-11-22T08:14:59.321Z"
   },
   {
    "duration": 0,
    "start_time": "2022-11-22T08:14:59.322Z"
   },
   {
    "duration": 13,
    "start_time": "2022-11-22T08:15:54.744Z"
   },
   {
    "duration": 16,
    "start_time": "2022-11-22T08:16:31.189Z"
   },
   {
    "duration": 15,
    "start_time": "2022-11-22T08:16:42.198Z"
   },
   {
    "duration": 13,
    "start_time": "2022-11-22T08:17:42.173Z"
   },
   {
    "duration": 4,
    "start_time": "2022-11-22T08:17:48.930Z"
   },
   {
    "duration": 1122,
    "start_time": "2022-11-22T08:17:48.937Z"
   },
   {
    "duration": 74,
    "start_time": "2022-11-22T08:17:50.061Z"
   },
   {
    "duration": 16,
    "start_time": "2022-11-22T08:17:50.137Z"
   },
   {
    "duration": 4,
    "start_time": "2022-11-22T08:17:50.155Z"
   },
   {
    "duration": 6,
    "start_time": "2022-11-22T08:17:50.161Z"
   },
   {
    "duration": 29,
    "start_time": "2022-11-22T08:17:50.169Z"
   },
   {
    "duration": 16,
    "start_time": "2022-11-22T08:17:50.201Z"
   },
   {
    "duration": 22,
    "start_time": "2022-11-22T08:17:50.220Z"
   },
   {
    "duration": 13,
    "start_time": "2022-11-22T08:17:50.244Z"
   },
   {
    "duration": 46,
    "start_time": "2022-11-22T08:17:50.260Z"
   },
   {
    "duration": 42181,
    "start_time": "2022-11-22T08:17:50.308Z"
   },
   {
    "duration": 25,
    "start_time": "2022-11-22T08:18:32.491Z"
   },
   {
    "duration": 280,
    "start_time": "2022-11-22T08:18:32.518Z"
   },
   {
    "duration": 17,
    "start_time": "2022-11-22T08:18:32.800Z"
   },
   {
    "duration": 3,
    "start_time": "2022-11-22T08:18:32.819Z"
   },
   {
    "duration": 117,
    "start_time": "2022-11-22T08:18:32.823Z"
   },
   {
    "duration": 0,
    "start_time": "2022-11-22T08:18:32.944Z"
   },
   {
    "duration": 0,
    "start_time": "2022-11-22T08:18:32.945Z"
   },
   {
    "duration": 0,
    "start_time": "2022-11-22T08:18:32.947Z"
   },
   {
    "duration": 0,
    "start_time": "2022-11-22T08:18:32.948Z"
   },
   {
    "duration": 0,
    "start_time": "2022-11-22T08:18:32.949Z"
   },
   {
    "duration": 0,
    "start_time": "2022-11-22T08:18:32.950Z"
   },
   {
    "duration": 0,
    "start_time": "2022-11-22T08:18:32.951Z"
   },
   {
    "duration": 0,
    "start_time": "2022-11-22T08:18:32.952Z"
   },
   {
    "duration": 0,
    "start_time": "2022-11-22T08:18:32.954Z"
   },
   {
    "duration": 0,
    "start_time": "2022-11-22T08:18:32.955Z"
   },
   {
    "duration": 0,
    "start_time": "2022-11-22T08:18:32.956Z"
   },
   {
    "duration": 0,
    "start_time": "2022-11-22T08:18:32.957Z"
   },
   {
    "duration": 0,
    "start_time": "2022-11-22T08:18:32.958Z"
   },
   {
    "duration": 0,
    "start_time": "2022-11-22T08:18:32.959Z"
   },
   {
    "duration": 0,
    "start_time": "2022-11-22T08:18:32.960Z"
   },
   {
    "duration": 0,
    "start_time": "2022-11-22T08:18:32.961Z"
   },
   {
    "duration": 0,
    "start_time": "2022-11-22T08:18:32.963Z"
   },
   {
    "duration": 0,
    "start_time": "2022-11-22T08:18:32.964Z"
   },
   {
    "duration": 0,
    "start_time": "2022-11-22T08:18:32.996Z"
   },
   {
    "duration": 0,
    "start_time": "2022-11-22T08:18:32.998Z"
   },
   {
    "duration": 0,
    "start_time": "2022-11-22T08:18:32.999Z"
   },
   {
    "duration": 0,
    "start_time": "2022-11-22T08:18:33.000Z"
   },
   {
    "duration": 0,
    "start_time": "2022-11-22T08:18:33.001Z"
   },
   {
    "duration": 0,
    "start_time": "2022-11-22T08:18:33.002Z"
   },
   {
    "duration": 0,
    "start_time": "2022-11-22T08:18:33.003Z"
   },
   {
    "duration": 0,
    "start_time": "2022-11-22T08:18:33.004Z"
   },
   {
    "duration": 0,
    "start_time": "2022-11-22T08:18:33.005Z"
   },
   {
    "duration": 0,
    "start_time": "2022-11-22T08:18:33.006Z"
   },
   {
    "duration": 0,
    "start_time": "2022-11-22T08:18:33.008Z"
   },
   {
    "duration": 0,
    "start_time": "2022-11-22T08:18:33.009Z"
   },
   {
    "duration": 0,
    "start_time": "2022-11-22T08:18:33.010Z"
   },
   {
    "duration": 0,
    "start_time": "2022-11-22T08:18:33.011Z"
   },
   {
    "duration": 0,
    "start_time": "2022-11-22T08:18:33.012Z"
   },
   {
    "duration": 0,
    "start_time": "2022-11-22T08:18:33.013Z"
   },
   {
    "duration": 0,
    "start_time": "2022-11-22T08:18:33.014Z"
   },
   {
    "duration": 0,
    "start_time": "2022-11-22T08:18:33.015Z"
   },
   {
    "duration": 0,
    "start_time": "2022-11-22T08:18:33.016Z"
   },
   {
    "duration": 0,
    "start_time": "2022-11-22T08:18:33.017Z"
   },
   {
    "duration": 0,
    "start_time": "2022-11-22T08:18:33.018Z"
   },
   {
    "duration": 0,
    "start_time": "2022-11-22T08:18:33.019Z"
   },
   {
    "duration": 0,
    "start_time": "2022-11-22T08:18:33.020Z"
   },
   {
    "duration": 0,
    "start_time": "2022-11-22T08:18:33.021Z"
   },
   {
    "duration": 12,
    "start_time": "2022-11-22T08:19:46.125Z"
   },
   {
    "duration": 9,
    "start_time": "2022-11-22T08:19:54.555Z"
   },
   {
    "duration": 5,
    "start_time": "2022-11-22T08:20:09.591Z"
   },
   {
    "duration": 18,
    "start_time": "2022-11-22T08:20:10.669Z"
   },
   {
    "duration": 21,
    "start_time": "2022-11-22T08:20:22.180Z"
   },
   {
    "duration": 6,
    "start_time": "2022-11-22T08:20:26.782Z"
   },
   {
    "duration": 21,
    "start_time": "2022-11-22T08:20:32.543Z"
   },
   {
    "duration": 22,
    "start_time": "2022-11-22T08:20:37.780Z"
   },
   {
    "duration": 6,
    "start_time": "2022-11-22T08:20:44.333Z"
   },
   {
    "duration": 5,
    "start_time": "2022-11-22T08:25:10.960Z"
   },
   {
    "duration": 18,
    "start_time": "2022-11-22T08:25:56.287Z"
   },
   {
    "duration": 9,
    "start_time": "2022-11-22T08:27:00.880Z"
   },
   {
    "duration": 14,
    "start_time": "2022-11-22T08:27:57.434Z"
   },
   {
    "duration": 6,
    "start_time": "2022-11-22T08:28:14.560Z"
   },
   {
    "duration": 9,
    "start_time": "2022-11-22T08:28:34.438Z"
   },
   {
    "duration": 9,
    "start_time": "2022-11-22T08:29:13.741Z"
   },
   {
    "duration": 9,
    "start_time": "2022-11-22T08:29:33.502Z"
   },
   {
    "duration": 55,
    "start_time": "2022-11-22T08:30:22.159Z"
   },
   {
    "duration": 15,
    "start_time": "2022-11-22T08:30:34.220Z"
   },
   {
    "duration": 12,
    "start_time": "2022-11-22T08:30:54.517Z"
   },
   {
    "duration": 4,
    "start_time": "2022-11-22T08:31:05.957Z"
   },
   {
    "duration": 13,
    "start_time": "2022-11-22T08:31:08.332Z"
   },
   {
    "duration": 5,
    "start_time": "2022-11-22T08:31:14.823Z"
   },
   {
    "duration": 8,
    "start_time": "2022-11-22T08:31:20.213Z"
   },
   {
    "duration": 6,
    "start_time": "2022-11-22T08:31:59.996Z"
   },
   {
    "duration": 7,
    "start_time": "2022-11-22T11:06:01.777Z"
   },
   {
    "duration": 7,
    "start_time": "2022-11-22T11:06:14.034Z"
   },
   {
    "duration": 427,
    "start_time": "2022-11-22T11:06:27.218Z"
   },
   {
    "duration": 7,
    "start_time": "2022-11-22T11:06:36.259Z"
   },
   {
    "duration": 5,
    "start_time": "2022-11-22T11:06:39.803Z"
   },
   {
    "duration": 98,
    "start_time": "2022-11-22T11:07:22.129Z"
   },
   {
    "duration": 313,
    "start_time": "2022-11-22T11:12:03.995Z"
   },
   {
    "duration": 6,
    "start_time": "2022-11-22T11:15:04.758Z"
   },
   {
    "duration": 234,
    "start_time": "2022-11-22T11:15:18.259Z"
   },
   {
    "duration": 308,
    "start_time": "2022-11-22T11:16:48.174Z"
   },
   {
    "duration": 5,
    "start_time": "2022-11-22T11:19:03.611Z"
   },
   {
    "duration": 328,
    "start_time": "2022-11-22T11:19:04.931Z"
   },
   {
    "duration": 234,
    "start_time": "2022-11-22T11:20:07.930Z"
   },
   {
    "duration": 332,
    "start_time": "2022-11-22T11:20:11.877Z"
   },
   {
    "duration": 322,
    "start_time": "2022-11-22T11:28:33.184Z"
   },
   {
    "duration": 10,
    "start_time": "2022-11-22T11:28:39.940Z"
   },
   {
    "duration": 348,
    "start_time": "2022-11-22T11:28:56.997Z"
   },
   {
    "duration": 29,
    "start_time": "2022-11-22T11:29:26.676Z"
   },
   {
    "duration": 22,
    "start_time": "2022-11-22T11:30:21.947Z"
   },
   {
    "duration": 79,
    "start_time": "2022-11-22T11:36:03.043Z"
   },
   {
    "duration": 43,
    "start_time": "2022-11-22T11:38:40.964Z"
   },
   {
    "duration": 7,
    "start_time": "2022-11-22T11:42:28.884Z"
   },
   {
    "duration": 7,
    "start_time": "2022-11-22T11:43:44.721Z"
   },
   {
    "duration": 7,
    "start_time": "2022-11-22T11:44:58.961Z"
   },
   {
    "duration": 15,
    "start_time": "2022-11-22T11:49:56.183Z"
   },
   {
    "duration": 134,
    "start_time": "2022-11-22T12:10:12.385Z"
   },
   {
    "duration": 108,
    "start_time": "2022-11-22T12:10:29.152Z"
   },
   {
    "duration": 112,
    "start_time": "2022-11-22T12:10:58.607Z"
   },
   {
    "duration": 128,
    "start_time": "2022-11-22T12:13:05.143Z"
   },
   {
    "duration": 11,
    "start_time": "2022-11-22T12:17:03.693Z"
   },
   {
    "duration": 11,
    "start_time": "2022-11-22T12:17:16.667Z"
   },
   {
    "duration": 13,
    "start_time": "2022-11-22T12:17:45.898Z"
   },
   {
    "duration": 14,
    "start_time": "2022-11-22T12:18:02.330Z"
   },
   {
    "duration": 16,
    "start_time": "2022-11-22T12:18:47.161Z"
   },
   {
    "duration": 17,
    "start_time": "2022-11-22T12:19:09.099Z"
   },
   {
    "duration": 199,
    "start_time": "2022-11-22T12:19:32.097Z"
   },
   {
    "duration": 203,
    "start_time": "2022-11-22T12:19:47.170Z"
   },
   {
    "duration": 234,
    "start_time": "2022-11-22T12:22:34.439Z"
   },
   {
    "duration": 324,
    "start_time": "2022-11-22T12:22:54.294Z"
   },
   {
    "duration": 275,
    "start_time": "2022-11-22T12:23:38.047Z"
   },
   {
    "duration": 41,
    "start_time": "2022-11-22T12:25:39.181Z"
   },
   {
    "duration": 377,
    "start_time": "2022-11-22T12:25:51.501Z"
   },
   {
    "duration": 328,
    "start_time": "2022-11-22T12:25:58.557Z"
   },
   {
    "duration": 262,
    "start_time": "2022-11-22T12:27:11.052Z"
   },
   {
    "duration": 252,
    "start_time": "2022-11-22T12:27:19.179Z"
   },
   {
    "duration": 11,
    "start_time": "2022-11-22T12:27:55.444Z"
   },
   {
    "duration": 250,
    "start_time": "2022-11-22T12:28:42.060Z"
   },
   {
    "duration": 12,
    "start_time": "2022-11-22T12:28:51.955Z"
   },
   {
    "duration": 243,
    "start_time": "2022-11-22T12:30:36.756Z"
   },
   {
    "duration": 239,
    "start_time": "2022-11-22T12:30:42.315Z"
   },
   {
    "duration": 7,
    "start_time": "2022-11-22T12:36:27.630Z"
   },
   {
    "duration": 10,
    "start_time": "2022-11-22T12:37:22.493Z"
   },
   {
    "duration": 11,
    "start_time": "2022-11-22T12:37:52.654Z"
   },
   {
    "duration": 13,
    "start_time": "2022-11-22T12:39:12.413Z"
   },
   {
    "duration": 11,
    "start_time": "2022-11-22T12:39:24.038Z"
   },
   {
    "duration": 12,
    "start_time": "2022-11-22T12:39:27.538Z"
   },
   {
    "duration": 13,
    "start_time": "2022-11-22T12:39:55.572Z"
   },
   {
    "duration": 12,
    "start_time": "2022-11-22T12:40:19.028Z"
   },
   {
    "duration": 12,
    "start_time": "2022-11-22T12:41:38.107Z"
   },
   {
    "duration": 13,
    "start_time": "2022-11-22T12:41:55.866Z"
   },
   {
    "duration": 9,
    "start_time": "2022-11-22T12:45:37.888Z"
   },
   {
    "duration": 79,
    "start_time": "2022-11-22T12:46:13.823Z"
   },
   {
    "duration": 9,
    "start_time": "2022-11-22T12:46:23.879Z"
   }
  ],
  "kernelspec": {
   "display_name": "Python 3 (ipykernel)",
   "language": "python",
   "name": "python3"
  },
  "language_info": {
   "codemirror_mode": {
    "name": "ipython",
    "version": 3
   },
   "file_extension": ".py",
   "mimetype": "text/x-python",
   "name": "python",
   "nbconvert_exporter": "python",
   "pygments_lexer": "ipython3",
   "version": "3.9.13"
  },
  "toc": {
   "base_numbering": 1,
   "nav_menu": {},
   "number_sections": true,
   "sideBar": true,
   "skip_h1_title": true,
   "title_cell": "Table of Contents",
   "title_sidebar": "Contents",
   "toc_cell": false,
   "toc_position": {},
   "toc_section_display": true,
   "toc_window_display": false
  }
 },
 "nbformat": 4,
 "nbformat_minor": 5
}
